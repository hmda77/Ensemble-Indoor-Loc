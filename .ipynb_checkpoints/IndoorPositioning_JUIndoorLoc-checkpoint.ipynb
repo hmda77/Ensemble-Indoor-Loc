{
 "cells": [
  {
   "cell_type": "markdown",
   "metadata": {
    "id": "olPyGdHP-y2e"
   },
   "source": [
    "# Import Dataset"
   ]
  },
  {
   "cell_type": "code",
   "execution_count": 1,
   "metadata": {
    "colab": {
     "base_uri": "https://localhost:8080/"
    },
    "id": "n0lCfI734grC",
    "outputId": "14566d6a-7c0d-4233-ed80-f0687283528d"
   },
   "outputs": [
    {
     "name": "stdout",
     "output_type": "stream",
     "text": [
      "Cloning into 'Ensemble-Indoor-Loc'...\n",
      "remote: Enumerating objects: 49, done.\u001b[K\n",
      "remote: Counting objects: 100% (49/49), done.\u001b[K\n",
      "remote: Compressing objects: 100% (43/43), done.\u001b[K\n",
      "remote: Total 49 (delta 14), reused 0 (delta 0), pack-reused 0\u001b[K\n",
      "Receiving objects: 100% (49/49), 572.56 KiB | 1.04 MiB/s, done.\n",
      "Resolving deltas: 100% (14/14), done.\n"
     ]
    }
   ],
   "source": [
    "!rm -rf *\n",
    "!git clone \"https://github.com/hmda77/Ensemble-Indoor-Loc\"\n",
    "!mv -f /content/Ensemble-Indoor-Loc/JUIndoorLoc/JUIndoorLoc-Test-data.csv /content/\n",
    "!mv -f /content/Ensemble-Indoor-Loc/JUIndoorLoc/JUIndoorLoc-Training-data.csv /content/\n",
    "!rm -rf /content/Ensemble-Indoor-Loc/"
   ]
  },
  {
   "cell_type": "markdown",
   "metadata": {
    "id": "Z4omUYA_-1yl"
   },
   "source": [
    "#Import Libraries"
   ]
  },
  {
   "cell_type": "code",
   "execution_count": 20,
   "metadata": {
    "id": "AlzWAauf8fpW"
   },
   "outputs": [],
   "source": [
    "import numpy as np\n",
    "import pandas as pd\n",
    "import matplotlib\n",
    "import matplotlib.pyplot as plt\n",
    "\n",
    "\n",
    "from sklearn import preprocessing\n",
    "from sklearn.metrics import accuracy_score, confusion_matrix, roc_auc_score, roc_curve, classification_report, auc\n",
    "import seaborn as sns\n",
    "from sklearn.model_selection import train_test_split\n",
    "from sklearn.model_selection import KFold\n",
    "from sklearn.model_selection import cross_val_score, cross_val_predict\n",
    "import time\n",
    "\n",
    "from sklearn.preprocessing import LabelEncoder\n",
    "from sklearn.preprocessing import OrdinalEncoder , normalize\n",
    "\n",
    "\n",
    "from sklearn.neighbors import KNeighborsClassifier\n",
    "from sklearn.svm import SVC"
   ]
  },
  {
   "cell_type": "markdown",
   "metadata": {
    "id": "DPfZUubr_BIw"
   },
   "source": [
    "# Process On Dataset"
   ]
  },
  {
   "cell_type": "markdown",
   "metadata": {
    "id": "Z1nBdegW_CqO"
   },
   "source": [
    "## Load Dataset"
   ]
  },
  {
   "cell_type": "code",
   "execution_count": 2,
   "metadata": {},
   "outputs": [],
   "source": [
    "tr_path = \"C://Users/Hamid/content/JUIndoorLoc-Training-data.csv\"\n",
    "ts_path = \"C://Users/Hamid/content/JUIndoorLoc-Test-data.csv\""
   ]
  },
  {
   "cell_type": "code",
   "execution_count": 27,
   "metadata": {
    "colab": {
     "base_uri": "https://localhost:8080/",
     "height": 235
    },
    "id": "9O3MtMBO8iBF",
    "outputId": "1ebd5677-5f5b-420d-9a70-4b90613e517e"
   },
   "outputs": [
    {
     "data": {
      "text/html": [
       "<div>\n",
       "<style scoped>\n",
       "    .dataframe tbody tr th:only-of-type {\n",
       "        vertical-align: middle;\n",
       "    }\n",
       "\n",
       "    .dataframe tbody tr th {\n",
       "        vertical-align: top;\n",
       "    }\n",
       "\n",
       "    .dataframe thead th {\n",
       "        text-align: right;\n",
       "    }\n",
       "</style>\n",
       "<table border=\"1\" class=\"dataframe\">\n",
       "  <thead>\n",
       "    <tr style=\"text-align: right;\">\n",
       "      <th></th>\n",
       "      <th>Cid</th>\n",
       "      <th>AP001</th>\n",
       "      <th>AP002</th>\n",
       "      <th>AP003</th>\n",
       "      <th>AP004</th>\n",
       "      <th>AP005</th>\n",
       "      <th>AP006</th>\n",
       "      <th>AP007</th>\n",
       "      <th>AP008</th>\n",
       "      <th>AP009</th>\n",
       "      <th>...</th>\n",
       "      <th>AP167</th>\n",
       "      <th>AP168</th>\n",
       "      <th>AP169</th>\n",
       "      <th>AP170</th>\n",
       "      <th>AP171</th>\n",
       "      <th>AP172</th>\n",
       "      <th>Rs</th>\n",
       "      <th>Hpr</th>\n",
       "      <th>Did</th>\n",
       "      <th>Ts</th>\n",
       "    </tr>\n",
       "  </thead>\n",
       "  <tbody>\n",
       "    <tr>\n",
       "      <th>0</th>\n",
       "      <td>L4-40-1</td>\n",
       "      <td>-84</td>\n",
       "      <td>-80</td>\n",
       "      <td>-71</td>\n",
       "      <td>-58</td>\n",
       "      <td>-110</td>\n",
       "      <td>-72</td>\n",
       "      <td>-71</td>\n",
       "      <td>-110</td>\n",
       "      <td>-110</td>\n",
       "      <td>...</td>\n",
       "      <td>-110</td>\n",
       "      <td>-110</td>\n",
       "      <td>-110</td>\n",
       "      <td>-110</td>\n",
       "      <td>-110</td>\n",
       "      <td>-110</td>\n",
       "      <td>0</td>\n",
       "      <td>1</td>\n",
       "      <td>D4</td>\n",
       "      <td>1469870570949</td>\n",
       "    </tr>\n",
       "    <tr>\n",
       "      <th>1</th>\n",
       "      <td>L4-40-1</td>\n",
       "      <td>-84</td>\n",
       "      <td>-79</td>\n",
       "      <td>-71</td>\n",
       "      <td>-58</td>\n",
       "      <td>-110</td>\n",
       "      <td>-72</td>\n",
       "      <td>-71</td>\n",
       "      <td>-110</td>\n",
       "      <td>-110</td>\n",
       "      <td>...</td>\n",
       "      <td>-110</td>\n",
       "      <td>-110</td>\n",
       "      <td>-110</td>\n",
       "      <td>-110</td>\n",
       "      <td>-110</td>\n",
       "      <td>-110</td>\n",
       "      <td>0</td>\n",
       "      <td>1</td>\n",
       "      <td>D4</td>\n",
       "      <td>1470047205646</td>\n",
       "    </tr>\n",
       "    <tr>\n",
       "      <th>2</th>\n",
       "      <td>L4-40-1</td>\n",
       "      <td>-110</td>\n",
       "      <td>-110</td>\n",
       "      <td>-70</td>\n",
       "      <td>-56</td>\n",
       "      <td>-110</td>\n",
       "      <td>-69</td>\n",
       "      <td>-68</td>\n",
       "      <td>-110</td>\n",
       "      <td>-110</td>\n",
       "      <td>...</td>\n",
       "      <td>-110</td>\n",
       "      <td>-110</td>\n",
       "      <td>-110</td>\n",
       "      <td>-110</td>\n",
       "      <td>-110</td>\n",
       "      <td>-110</td>\n",
       "      <td>0</td>\n",
       "      <td>1</td>\n",
       "      <td>D4</td>\n",
       "      <td>1469870932338</td>\n",
       "    </tr>\n",
       "    <tr>\n",
       "      <th>3</th>\n",
       "      <td>L4-40-1</td>\n",
       "      <td>-110</td>\n",
       "      <td>-110</td>\n",
       "      <td>-70</td>\n",
       "      <td>-53</td>\n",
       "      <td>-110</td>\n",
       "      <td>-69</td>\n",
       "      <td>-68</td>\n",
       "      <td>-110</td>\n",
       "      <td>-110</td>\n",
       "      <td>...</td>\n",
       "      <td>-110</td>\n",
       "      <td>-110</td>\n",
       "      <td>-110</td>\n",
       "      <td>-110</td>\n",
       "      <td>-110</td>\n",
       "      <td>-110</td>\n",
       "      <td>0</td>\n",
       "      <td>1</td>\n",
       "      <td>D4</td>\n",
       "      <td>1470047629440</td>\n",
       "    </tr>\n",
       "    <tr>\n",
       "      <th>4</th>\n",
       "      <td>L4-37-2</td>\n",
       "      <td>-84</td>\n",
       "      <td>-82</td>\n",
       "      <td>-75</td>\n",
       "      <td>-65</td>\n",
       "      <td>-110</td>\n",
       "      <td>-73</td>\n",
       "      <td>-75</td>\n",
       "      <td>-110</td>\n",
       "      <td>-110</td>\n",
       "      <td>...</td>\n",
       "      <td>-110</td>\n",
       "      <td>-110</td>\n",
       "      <td>-110</td>\n",
       "      <td>-110</td>\n",
       "      <td>-110</td>\n",
       "      <td>-110</td>\n",
       "      <td>0</td>\n",
       "      <td>1</td>\n",
       "      <td>D4</td>\n",
       "      <td>1469876622694</td>\n",
       "    </tr>\n",
       "  </tbody>\n",
       "</table>\n",
       "<p>5 rows × 177 columns</p>\n",
       "</div>"
      ],
      "text/plain": [
       "       Cid  AP001  AP002  AP003  AP004  AP005  AP006  AP007  AP008  AP009  \\\n",
       "0  L4-40-1    -84    -80    -71    -58   -110    -72    -71   -110   -110   \n",
       "1  L4-40-1    -84    -79    -71    -58   -110    -72    -71   -110   -110   \n",
       "2  L4-40-1   -110   -110    -70    -56   -110    -69    -68   -110   -110   \n",
       "3  L4-40-1   -110   -110    -70    -53   -110    -69    -68   -110   -110   \n",
       "4  L4-37-2    -84    -82    -75    -65   -110    -73    -75   -110   -110   \n",
       "\n",
       "   ...  AP167  AP168  AP169  AP170  AP171  AP172  Rs  Hpr  Did             Ts  \n",
       "0  ...   -110   -110   -110   -110   -110   -110   0    1   D4  1469870570949  \n",
       "1  ...   -110   -110   -110   -110   -110   -110   0    1   D4  1470047205646  \n",
       "2  ...   -110   -110   -110   -110   -110   -110   0    1   D4  1469870932338  \n",
       "3  ...   -110   -110   -110   -110   -110   -110   0    1   D4  1470047629440  \n",
       "4  ...   -110   -110   -110   -110   -110   -110   0    1   D4  1469876622694  \n",
       "\n",
       "[5 rows x 177 columns]"
      ]
     },
     "execution_count": 27,
     "metadata": {},
     "output_type": "execute_result"
    }
   ],
   "source": [
    "data_train = pd.read_csv(tr_path)\n",
    "data_train.head(5)"
   ]
  },
  {
   "cell_type": "code",
   "execution_count": 28,
   "metadata": {
    "id": "tio2zzHFKw5l"
   },
   "outputs": [],
   "source": [
    "data_train['Did'] = data_train['Did'].astype(str).str[1]\n",
    "data_train['Did'] = pd.to_numeric(data_train['Did'])"
   ]
  },
  {
   "cell_type": "code",
   "execution_count": 29,
   "metadata": {
    "colab": {
     "base_uri": "https://localhost:8080/",
     "height": 235
    },
    "id": "mne4I6_F819I",
    "outputId": "0c02e3f9-158e-49ac-f398-4d77d811819d"
   },
   "outputs": [
    {
     "data": {
      "text/html": [
       "<div>\n",
       "<style scoped>\n",
       "    .dataframe tbody tr th:only-of-type {\n",
       "        vertical-align: middle;\n",
       "    }\n",
       "\n",
       "    .dataframe tbody tr th {\n",
       "        vertical-align: top;\n",
       "    }\n",
       "\n",
       "    .dataframe thead th {\n",
       "        text-align: right;\n",
       "    }\n",
       "</style>\n",
       "<table border=\"1\" class=\"dataframe\">\n",
       "  <thead>\n",
       "    <tr style=\"text-align: right;\">\n",
       "      <th></th>\n",
       "      <th>Cid</th>\n",
       "      <th>AP001</th>\n",
       "      <th>AP002</th>\n",
       "      <th>AP003</th>\n",
       "      <th>AP004</th>\n",
       "      <th>AP005</th>\n",
       "      <th>AP006</th>\n",
       "      <th>AP007</th>\n",
       "      <th>AP008</th>\n",
       "      <th>AP009</th>\n",
       "      <th>...</th>\n",
       "      <th>AP167</th>\n",
       "      <th>AP168</th>\n",
       "      <th>AP169</th>\n",
       "      <th>AP170</th>\n",
       "      <th>AP171</th>\n",
       "      <th>AP172</th>\n",
       "      <th>Rs</th>\n",
       "      <th>Hpr</th>\n",
       "      <th>Did</th>\n",
       "      <th>Ts</th>\n",
       "    </tr>\n",
       "  </thead>\n",
       "  <tbody>\n",
       "    <tr>\n",
       "      <th>0</th>\n",
       "      <td>L4-33-13</td>\n",
       "      <td>-77</td>\n",
       "      <td>-58</td>\n",
       "      <td>-66</td>\n",
       "      <td>-64</td>\n",
       "      <td>-92</td>\n",
       "      <td>-66</td>\n",
       "      <td>-66</td>\n",
       "      <td>-93</td>\n",
       "      <td>-93</td>\n",
       "      <td>...</td>\n",
       "      <td>-110</td>\n",
       "      <td>-110</td>\n",
       "      <td>-110</td>\n",
       "      <td>-110</td>\n",
       "      <td>-110</td>\n",
       "      <td>-110</td>\n",
       "      <td>0</td>\n",
       "      <td>0</td>\n",
       "      <td>D2</td>\n",
       "      <td>1489813137748</td>\n",
       "    </tr>\n",
       "    <tr>\n",
       "      <th>1</th>\n",
       "      <td>L4-33-13</td>\n",
       "      <td>-90</td>\n",
       "      <td>-58</td>\n",
       "      <td>-78</td>\n",
       "      <td>-56</td>\n",
       "      <td>-92</td>\n",
       "      <td>-74</td>\n",
       "      <td>-74</td>\n",
       "      <td>-87</td>\n",
       "      <td>-93</td>\n",
       "      <td>...</td>\n",
       "      <td>-110</td>\n",
       "      <td>-110</td>\n",
       "      <td>-110</td>\n",
       "      <td>-110</td>\n",
       "      <td>-110</td>\n",
       "      <td>-110</td>\n",
       "      <td>0</td>\n",
       "      <td>0</td>\n",
       "      <td>D2</td>\n",
       "      <td>1489813179138</td>\n",
       "    </tr>\n",
       "    <tr>\n",
       "      <th>2</th>\n",
       "      <td>L4-33-13</td>\n",
       "      <td>-80</td>\n",
       "      <td>-64</td>\n",
       "      <td>-78</td>\n",
       "      <td>-56</td>\n",
       "      <td>-92</td>\n",
       "      <td>-74</td>\n",
       "      <td>-74</td>\n",
       "      <td>-87</td>\n",
       "      <td>-93</td>\n",
       "      <td>...</td>\n",
       "      <td>-110</td>\n",
       "      <td>-110</td>\n",
       "      <td>-110</td>\n",
       "      <td>-110</td>\n",
       "      <td>-110</td>\n",
       "      <td>-110</td>\n",
       "      <td>0</td>\n",
       "      <td>0</td>\n",
       "      <td>D2</td>\n",
       "      <td>1489812948443</td>\n",
       "    </tr>\n",
       "    <tr>\n",
       "      <th>3</th>\n",
       "      <td>L4-33-13</td>\n",
       "      <td>-72</td>\n",
       "      <td>-60</td>\n",
       "      <td>-74</td>\n",
       "      <td>-58</td>\n",
       "      <td>-93</td>\n",
       "      <td>-75</td>\n",
       "      <td>-76</td>\n",
       "      <td>-95</td>\n",
       "      <td>-93</td>\n",
       "      <td>...</td>\n",
       "      <td>-110</td>\n",
       "      <td>-110</td>\n",
       "      <td>-110</td>\n",
       "      <td>-110</td>\n",
       "      <td>-110</td>\n",
       "      <td>-110</td>\n",
       "      <td>0</td>\n",
       "      <td>0</td>\n",
       "      <td>D2</td>\n",
       "      <td>1489812959103</td>\n",
       "    </tr>\n",
       "    <tr>\n",
       "      <th>4</th>\n",
       "      <td>L4-33-13</td>\n",
       "      <td>-82</td>\n",
       "      <td>-56</td>\n",
       "      <td>-74</td>\n",
       "      <td>-56</td>\n",
       "      <td>-93</td>\n",
       "      <td>-71</td>\n",
       "      <td>-76</td>\n",
       "      <td>-89</td>\n",
       "      <td>-110</td>\n",
       "      <td>...</td>\n",
       "      <td>-110</td>\n",
       "      <td>-110</td>\n",
       "      <td>-110</td>\n",
       "      <td>-110</td>\n",
       "      <td>-110</td>\n",
       "      <td>-110</td>\n",
       "      <td>0</td>\n",
       "      <td>0</td>\n",
       "      <td>D2</td>\n",
       "      <td>1489813079167</td>\n",
       "    </tr>\n",
       "  </tbody>\n",
       "</table>\n",
       "<p>5 rows × 177 columns</p>\n",
       "</div>"
      ],
      "text/plain": [
       "        Cid  AP001  AP002  AP003  AP004  AP005  AP006  AP007  AP008  AP009  \\\n",
       "0  L4-33-13    -77    -58    -66    -64    -92    -66    -66    -93    -93   \n",
       "1  L4-33-13    -90    -58    -78    -56    -92    -74    -74    -87    -93   \n",
       "2  L4-33-13    -80    -64    -78    -56    -92    -74    -74    -87    -93   \n",
       "3  L4-33-13    -72    -60    -74    -58    -93    -75    -76    -95    -93   \n",
       "4  L4-33-13    -82    -56    -74    -56    -93    -71    -76    -89   -110   \n",
       "\n",
       "   ...  AP167  AP168  AP169  AP170  AP171  AP172  Rs  Hpr  Did             Ts  \n",
       "0  ...   -110   -110   -110   -110   -110   -110   0    0   D2  1489813137748  \n",
       "1  ...   -110   -110   -110   -110   -110   -110   0    0   D2  1489813179138  \n",
       "2  ...   -110   -110   -110   -110   -110   -110   0    0   D2  1489812948443  \n",
       "3  ...   -110   -110   -110   -110   -110   -110   0    0   D2  1489812959103  \n",
       "4  ...   -110   -110   -110   -110   -110   -110   0    0   D2  1489813079167  \n",
       "\n",
       "[5 rows x 177 columns]"
      ]
     },
     "execution_count": 29,
     "metadata": {},
     "output_type": "execute_result"
    }
   ],
   "source": [
    "data_test = pd.read_csv(ts_path)\n",
    "data_test.head(5)"
   ]
  },
  {
   "cell_type": "code",
   "execution_count": 30,
   "metadata": {
    "id": "Dj5-ZRSfMCWu"
   },
   "outputs": [],
   "source": [
    "data_test['Did'] = data_test['Did'].astype(str).str[1]\n",
    "data_test['Did'] = pd.to_numeric(data_test['Did'])"
   ]
  },
  {
   "cell_type": "markdown",
   "metadata": {
    "id": "ui7TGJEgg2uh"
   },
   "source": [
    "# Training Base Model"
   ]
  },
  {
   "cell_type": "code",
   "execution_count": 7,
   "metadata": {
    "id": "uLIv8Xfhg6Gp"
   },
   "outputs": [],
   "source": [
    "def TrainingBaseModel(clf, DATA_TRAIN, f):\n",
    "  b = 0\n",
    "  TR = {} #Whole Train Set 1...b\n",
    "  OPCV = {} #KFOLD Results 1....b\n",
    "  for g in range(1,f+1):\n",
    "    for h in range(1,f+1):\n",
    "      if not (h==g) and (h>g):\n",
    "        # make a Train sets\n",
    "        TR[\"{},{}\".format(g,h)] = DATA_TRAIN.loc[(DATA_TRAIN['Did'] == g) | (DATA_TRAIN['Did'] == h)]\n",
    "\n",
    "        #make X_train from Tr\n",
    "        XTR = TR[\"{},{}\".format(g,h)].loc[:, (TR[\"{},{}\".format(g,h)].columns != 'Ts') & (TR[\"{},{}\".format(g,h)].columns != 'Cid')]\n",
    "        # XTrain_dummies = pd.get_dummies(XTR, columns = ['Did'])\n",
    "        X_train = XTR\n",
    "\n",
    "        #make Y_train from Tr (Y_true)\n",
    "        Y_train = TR[\"{},{}\".format(g,h)].Cid\n",
    "        Y_true = Y_train\n",
    "        # define 10 Fold Cross Validation\n",
    "        cv = KFold(n_splits=10, random_state=1, shuffle=True)\n",
    "\n",
    "        #make model\n",
    "        c = clf\n",
    "        # Label of Train set\n",
    "        b = b + 1\n",
    "\n",
    "        # Prediction Y_pred\n",
    "        Y_pred = cross_val_predict(c, X_train, Y_train, cv=cv, n_jobs = 1, method = 'predict')\n",
    "\n",
    "        OPCV[b] = {}\n",
    "        OPCV[b]['actual'] = Y_true\n",
    "        OPCV[b]['predict'] = Y_pred\n",
    "\n",
    "        print(\"Tr({},{}):\".format(g,h))\n",
    "        print(\"validation accuracy: {:.2%}\".format(accuracy_score(Y_true, Y_pred)))\n",
    "        print(\"----------------------------\\n\")\n",
    "  return OPCV, b\n"
   ]
  },
  {
   "cell_type": "markdown",
   "metadata": {
    "id": "PLfZU323J2L6"
   },
   "source": [
    "# Weight Determination (Algorithm 2)"
   ]
  },
  {
   "cell_type": "code",
   "execution_count": 8,
   "metadata": {
    "id": "Ax4pvHbp5IHt"
   },
   "outputs": [],
   "source": [
    "def WeightDetermine(opcv, b):\n",
    "  T = np.empty([b])\n",
    "  for q in range(1,b+1):\n",
    "    alpha = 1\n",
    "    beta = 1\n",
    "    sigma = 0.2\n",
    "    for i in range(opcv[q]['actual'].size):\n",
    "      actl = opcv[q]['actual'].to_numpy()[i]\n",
    "      prd = (opcv[q]['predict'][i])\n",
    "      if actl == prd:\n",
    "        alpha = alpha + sigma\n",
    "      else:\n",
    "        beta = beta + sigma\n",
    "\n",
    "    un = (12*alpha*beta)/(((alpha+beta)**2)*(1+alpha+beta))\n",
    "    bl = (alpha*(1-un))/(alpha+beta)\n",
    "    T[q-1] = bl + 0.5 * un\n",
    "  sumT = np.sum(T)\n",
    "  W = T/sumT\n",
    "  return W"
   ]
  },
  {
   "cell_type": "markdown",
   "metadata": {
    "id": "50vAHcvzIYVw"
   },
   "source": [
    "# Classification"
   ]
  },
  {
   "cell_type": "code",
   "execution_count": 9,
   "metadata": {
    "id": "4k9cJx-xG4M4"
   },
   "outputs": [],
   "source": [
    "def Classification(clf, DATA_TRAIN, DATA_TEST, f):\n",
    "  TR = {} #Whole Train Set 1...b\n",
    "\n",
    "  # make test dataset\n",
    "  Te = DATA_TEST.loc[:, (DATA_TEST.columns != 'Ts')]\n",
    "  X_test = DATA_TEST.loc[:, (DATA_TEST.columns != 'Ts') & (DATA_TEST.columns != 'Cid')]\n",
    "  Y_test = DATA_TEST.Cid\n",
    "  OPTE = {}\n",
    "  q = 0\n",
    "  for g in range(1,f+1):\n",
    "    for h in range(1,f+1):\n",
    "      if not (h==g) and (h>g):\n",
    "        # make a Train sets\n",
    "        TR[\"{},{}\".format(g,h)] = DATA_TRAIN.loc[(DATA_TRAIN['Did'] == g) | (DATA_TRAIN['Did'] == h)]\n",
    "\n",
    "        #make X_train from Tr\n",
    "        XTR = TR[\"{},{}\".format(g,h)].loc[:, (TR[\"{},{}\".format(g,h)].columns != 'Ts') & (TR[\"{},{}\".format(g,h)].columns != 'Cid')]\n",
    "        X_train = XTR\n",
    "\n",
    "        #make Y_train from Tr\n",
    "        Y_train = TR[\"{},{}\".format(g,h)].Cid\n",
    "\n",
    "        # make model\n",
    "        c = clf\n",
    "        c.fit(X_train, Y_train)\n",
    "\n",
    "\n",
    "        # prediction\n",
    "        Y_pred = c.predict(X_test)\n",
    "\n",
    "        q = q+1\n",
    "        OPTE[q] = {}\n",
    "        OPTE[q]['actual'] = Y_test\n",
    "        OPTE[q]['pred'] = Y_pred\n",
    "\n",
    "        print(\"Tr({},{}):\".format(g,h))\n",
    "        print(\"Test accuracy: {:.2%}\".format(accuracy_score(Y_test, Y_pred)))\n",
    "        print(\"----------------------------\\n\")\n",
    "\n",
    "  return OPTE"
   ]
  },
  {
   "cell_type": "markdown",
   "metadata": {
    "id": "TeucUWgOauYh"
   },
   "source": [
    "# Weight Voting (Algorithm 3)"
   ]
  },
  {
   "cell_type": "code",
   "execution_count": 10,
   "metadata": {
    "id": "Eb352DMtBnEF"
   },
   "outputs": [],
   "source": [
    "def WeightVoting(opte,DATA_TRAIN, DATA_TEST, w, b):\n",
    "  lk = DATA_TRAIN.Cid.unique()\n",
    "  o = lk.shape[0]\n",
    "  kapa_buf = []\n",
    "  for i in range(0, DATA_TEST.shape[0]):\n",
    "    P = np.zeros(o)\n",
    "    for q in range(1,b+1):\n",
    "      for k in range(1, o+1):\n",
    "        if lk[k-1] == opte[q]['pred'][i]:\n",
    "          z = 1\n",
    "        else:\n",
    "          z = 0\n",
    "        P[k-1] = P[k-1] + w[q-1] * z\n",
    "    kapa_buf.append(lk[np.argmax(P)])\n",
    "  kapa = np.array(kapa_buf, dtype=object)\n",
    "\n",
    "  return kapa\n"
   ]
  },
  {
   "cell_type": "markdown",
   "metadata": {
    "id": "9IKm5ueOA-_h"
   },
   "source": [
    "## Weighted Ensemble Classifier (Algorithm 1)"
   ]
  },
  {
   "cell_type": "code",
   "execution_count": 12,
   "metadata": {
    "id": "klKu8AAoacsE"
   },
   "outputs": [],
   "source": [
    "def WeightedEnsembleClassifier(clf, DATA_TRAIN, DATA_TEST):\n",
    "  b = 0\n",
    "  f = 4\n",
    "  W = None\n",
    "\n",
    "  if W == None:\n",
    "    print(\"<----------- Training base model ----------->\")\n",
    "    OPCV, b = TrainingBaseModel(clf, DATA_TRAIN, f)\n",
    "\n",
    "    print(\"\\n\\n<----------- Weight Determination ----------->\")\n",
    "    W = WeightDetermine(OPCV, b)\n",
    "    print(\"W is: {}\".format(W))\n",
    "      \n",
    "    start_time = time.time()  # Record the start time\n",
    "    print(\"\\n\\n<--------------- Classification --------------->\")\n",
    "    OPTE = Classification(clf, DATA_TRAIN, DATA_TEST, f)\n",
    "\n",
    "    print(\"\\n\\n<--------------- Weight Voting --------------->\")\n",
    "    KAPA = WeightVoting(OPTE,DATA_TRAIN, DATA_TEST, W, b)\n",
    "    print(\"weighted ensemble accuracy: {:.2%}\".format(accuracy_score(DATA_TEST.Cid, KAPA)))\n",
    "      \n",
    "    end_time = time.time()  # Record the end time\n",
    "    elapsed_time = end_time - start_time  # Calculate elapsed time\n",
    "    print(f\"test time: {elapsed_time}\")"
   ]
  },
  {
   "cell_type": "code",
   "execution_count": 17,
   "metadata": {
    "colab": {
     "base_uri": "https://localhost:8080/"
    },
    "id": "sWb8dst-fNjj",
    "outputId": "f94638ca-acdb-4d07-fa69-71731a24e8fc"
   },
   "outputs": [
    {
     "name": "stdout",
     "output_type": "stream",
     "text": [
      "<----------- Training base model ----------->\n",
      "Tr(1,2):\n",
      "validation accuracy: 93.05%\n",
      "----------------------------\n",
      "\n"
     ]
    },
    {
     "name": "stderr",
     "output_type": "stream",
     "text": [
      "\n",
      "KeyboardInterrupt\n",
      "\n"
     ]
    }
   ],
   "source": [
    "# clf = KNeighborsClassifier(n_neighbors=5)\n",
    "clf = SVC(kernel='linear',gamma='scale')\n",
    "WeightedEnsembleClassifier(clf, data_train,data_test)"
   ]
  },
  {
   "cell_type": "code",
   "execution_count": 16,
   "metadata": {
    "colab": {
     "base_uri": "https://localhost:8080/"
    },
    "id": "QsnjtfBVzg21",
    "outputId": "8a966791-e6a4-4c32-acd9-ce4b0bcbc620"
   },
   "outputs": [
    {
     "name": "stdout",
     "output_type": "stream",
     "text": [
      "<----------- Training base model ----------->\n",
      "Tr(1,2):\n",
      "validation accuracy: 63.19%\n",
      "----------------------------\n",
      "\n",
      "Tr(1,3):\n",
      "validation accuracy: 59.53%\n",
      "----------------------------\n",
      "\n",
      "Tr(1,4):\n",
      "validation accuracy: 60.78%\n",
      "----------------------------\n",
      "\n",
      "Tr(2,3):\n",
      "validation accuracy: 77.16%\n",
      "----------------------------\n",
      "\n",
      "Tr(2,4):\n",
      "validation accuracy: 77.70%\n",
      "----------------------------\n",
      "\n",
      "Tr(3,4):\n",
      "validation accuracy: 93.77%\n",
      "----------------------------\n",
      "\n",
      "\n",
      "\n",
      "<----------- Weight Determination ----------->\n",
      "W is: [0.14623092 0.13777427 0.14066384 0.17854094 0.17980523 0.21698481]\n",
      "\n",
      "\n",
      "<--------------- Classification --------------->\n",
      "Tr(1,2):\n",
      "Test accuracy: 92.88%\n",
      "----------------------------\n",
      "\n",
      "Tr(1,3):\n",
      "Test accuracy: 27.33%\n",
      "----------------------------\n",
      "\n",
      "Tr(1,4):\n",
      "Test accuracy: 27.40%\n",
      "----------------------------\n",
      "\n",
      "Tr(2,3):\n",
      "Test accuracy: 94.79%\n",
      "----------------------------\n",
      "\n",
      "Tr(2,4):\n",
      "Test accuracy: 98.77%\n",
      "----------------------------\n",
      "\n",
      "Tr(3,4):\n",
      "Test accuracy: 28.08%\n",
      "----------------------------\n",
      "\n",
      "\n",
      "\n",
      "<--------------- Weight Voting --------------->\n",
      "weighted ensemble accuracy: 98.77%\n",
      "test time: 7.174314498901367\n"
     ]
    }
   ],
   "source": [
    "clf = KNeighborsClassifier(n_neighbors=5)\n",
    "WeightedEnsembleClassifier(clf, data_train,data_test)"
   ]
  },
  {
   "cell_type": "markdown",
   "metadata": {},
   "source": [
    "# Combined dataset"
   ]
  },
  {
   "cell_type": "code",
   "execution_count": 82,
   "metadata": {},
   "outputs": [
    {
     "name": "stdout",
     "output_type": "stream",
     "text": [
      "Missing values in 'Cid' column after reset in train_df: 0\n",
      "Missing values in 'Cid' column after reset in test_df: 0\n"
     ]
    }
   ],
   "source": [
    "import pandas as pd\n",
    "from sklearn.model_selection import train_test_split\n",
    "from sklearn.preprocessing import StandardScaler\n",
    "\n",
    "# Read the training and test datasets\n",
    "data_train = pd.read_csv(tr_path)\n",
    "data_test = pd.read_csv(ts_path)\n",
    "\n",
    "# Preprocess 'Did' column\n",
    "data_train['Did'] = pd.to_numeric(data_train['Did'].astype(str).str[1])\n",
    "data_test['Did'] = pd.to_numeric(data_test['Did'].astype(str).str[1])\n",
    "\n",
    "# Concatenate the two datasets\n",
    "merged_data = pd.concat([data_train, data_test], ignore_index=True)\n",
    "\n",
    "# Separate features and labels\n",
    "X = merged_data.drop('Cid', axis=1)\n",
    "y = merged_data['Cid']\n",
    "# Split the data into training and testing sets\n",
    "X_train, X_test, y_train, y_test = train_test_split(X, y, test_size=0.2, shuffle=True, random_state=42)\n",
    "\n",
    "# Create new DataFrames for train and test sets\n",
    "train_df = pd.DataFrame(X_train, columns=X.columns)\n",
    "train_df['Cid'] = y_train\n",
    "\n",
    "test_df = pd.DataFrame(X_test, columns=X.columns)\n",
    "test_df['Cid'] = y_test\n",
    "print(\"Missing values in 'Cid' column after reset in train_df:\", train_df['Cid'].isnull().sum())\n",
    "print(\"Missing values in 'Cid' column after reset in test_df:\", test_df['Cid'].isnull().sum())\n"
   ]
  },
  {
   "cell_type": "code",
   "execution_count": 79,
   "metadata": {},
   "outputs": [
    {
     "name": "stdout",
     "output_type": "stream",
     "text": [
      "<----------- Training base model ----------->\n",
      "Tr(1,2):\n",
      "validation accuracy: 57.08%\n",
      "----------------------------\n",
      "\n",
      "Tr(1,3):\n",
      "validation accuracy: 56.86%\n",
      "----------------------------\n",
      "\n",
      "Tr(1,4):\n",
      "validation accuracy: 54.86%\n",
      "----------------------------\n",
      "\n",
      "Tr(2,3):\n",
      "validation accuracy: 69.72%\n",
      "----------------------------\n",
      "\n",
      "Tr(2,4):\n",
      "validation accuracy: 70.21%\n",
      "----------------------------\n",
      "\n",
      "Tr(3,4):\n",
      "validation accuracy: 85.80%\n",
      "----------------------------\n",
      "\n",
      "\n",
      "\n",
      "<----------- Weight Determination ----------->\n",
      "W is: [0.14471071 0.14413454 0.13909281 0.17670264 0.17794054 0.21741875]\n",
      "\n",
      "\n",
      "<--------------- Classification --------------->\n",
      "Tr(1,2):\n",
      "Test accuracy: 37.83%\n",
      "----------------------------\n",
      "\n",
      "Tr(1,3):\n",
      "Test accuracy: 51.33%\n",
      "----------------------------\n",
      "\n",
      "Tr(1,4):\n",
      "Test accuracy: 50.27%\n",
      "----------------------------\n",
      "\n",
      "Tr(2,3):\n",
      "Test accuracy: 68.34%\n",
      "----------------------------\n",
      "\n",
      "Tr(2,4):\n",
      "Test accuracy: 67.51%\n",
      "----------------------------\n",
      "\n",
      "Tr(3,4):\n",
      "Test accuracy: 53.74%\n",
      "----------------------------\n",
      "\n",
      "\n",
      "\n",
      "<--------------- Weight Voting --------------->\n",
      "weighted ensemble accuracy: 65.01%\n",
      "test time: 26.421047687530518\n"
     ]
    }
   ],
   "source": [
    "clf = KNeighborsClassifier(n_neighbors=5)\n",
    "WeightedEnsembleClassifier(clf, train_df,test_df)"
   ]
  }
 ],
 "metadata": {
  "colab": {
   "provenance": []
  },
  "kernelspec": {
   "display_name": "Python 3 (ipykernel)",
   "language": "python",
   "name": "python3"
  },
  "language_info": {
   "codemirror_mode": {
    "name": "ipython",
    "version": 3
   },
   "file_extension": ".py",
   "mimetype": "text/x-python",
   "name": "python",
   "nbconvert_exporter": "python",
   "pygments_lexer": "ipython3",
   "version": "3.12.0"
  }
 },
 "nbformat": 4,
 "nbformat_minor": 4
}
