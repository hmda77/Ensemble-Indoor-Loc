{
 "cells": [
  {
   "cell_type": "markdown",
   "metadata": {
    "id": "olPyGdHP-y2e"
   },
   "source": [
    "# Import Dataset"
   ]
  },
  {
   "cell_type": "code",
   "execution_count": 1,
   "metadata": {
    "colab": {
     "base_uri": "https://localhost:8080/"
    },
    "id": "n0lCfI734grC",
    "outputId": "14566d6a-7c0d-4233-ed80-f0687283528d"
   },
   "outputs": [
    {
     "name": "stdout",
     "output_type": "stream",
     "text": [
      "Cloning into 'Ensemble-Indoor-Loc'...\n",
      "remote: Enumerating objects: 49, done.\u001b[K\n",
      "remote: Counting objects: 100% (49/49), done.\u001b[K\n",
      "remote: Compressing objects: 100% (43/43), done.\u001b[K\n",
      "remote: Total 49 (delta 14), reused 0 (delta 0), pack-reused 0\u001b[K\n",
      "Receiving objects: 100% (49/49), 572.56 KiB | 1.04 MiB/s, done.\n",
      "Resolving deltas: 100% (14/14), done.\n"
     ]
    }
   ],
   "source": [
    "!rm -rf *\n",
    "!git clone \"https://github.com/hmda77/Ensemble-Indoor-Loc\"\n",
    "!mv -f /content/Ensemble-Indoor-Loc/JUIndoorLoc/JUIndoorLoc-Test-data.csv /content/\n",
    "!mv -f /content/Ensemble-Indoor-Loc/JUIndoorLoc/JUIndoorLoc-Training-data.csv /content/\n",
    "!rm -rf /content/Ensemble-Indoor-Loc/"
   ]
  },
  {
   "cell_type": "markdown",
   "metadata": {
    "id": "Z4omUYA_-1yl"
   },
   "source": [
    "#Import Libraries"
   ]
  },
  {
   "cell_type": "code",
   "execution_count": 1,
   "metadata": {
    "id": "AlzWAauf8fpW"
   },
   "outputs": [],
   "source": [
    "import numpy as np\n",
    "import pandas as pd\n",
    "import matplotlib\n",
    "import matplotlib.pyplot as plt\n",
    "\n",
    "\n",
    "from sklearn import preprocessing\n",
    "from sklearn.metrics import accuracy_score, confusion_matrix, roc_auc_score, roc_curve, classification_report, auc\n",
    "import seaborn as sns\n",
    "from sklearn.model_selection import train_test_split\n",
    "from sklearn.model_selection import KFold\n",
    "from sklearn.model_selection import cross_val_score, cross_val_predict\n",
    "\n",
    "from sklearn.neighbors import KNeighborsClassifier\n",
    "from sklearn.svm import SVC"
   ]
  },
  {
   "cell_type": "markdown",
   "metadata": {
    "id": "DPfZUubr_BIw"
   },
   "source": [
    "# Process On Dataset"
   ]
  },
  {
   "cell_type": "markdown",
   "metadata": {
    "id": "Z1nBdegW_CqO"
   },
   "source": [
    "## Load Dataset"
   ]
  },
  {
   "cell_type": "code",
   "execution_count": 2,
   "metadata": {
    "colab": {
     "base_uri": "https://localhost:8080/",
     "height": 235
    },
    "id": "9O3MtMBO8iBF",
    "outputId": "1ebd5677-5f5b-420d-9a70-4b90613e517e"
   },
   "outputs": [
    {
     "ename": "FileNotFoundError",
     "evalue": "[Errno 2] No such file or directory: '/content/JUIndoorLoc-Training-data.csv'",
     "output_type": "error",
     "traceback": [
      "\u001b[1;31m---------------------------------------------------------------------------\u001b[0m",
      "\u001b[1;31mFileNotFoundError\u001b[0m                         Traceback (most recent call last)",
      "Cell \u001b[1;32mIn[2], line 1\u001b[0m\n\u001b[1;32m----> 1\u001b[0m data_train \u001b[38;5;241m=\u001b[39m \u001b[43mpd\u001b[49m\u001b[38;5;241;43m.\u001b[39;49m\u001b[43mread_csv\u001b[49m\u001b[43m(\u001b[49m\u001b[38;5;124;43m\"\u001b[39;49m\u001b[38;5;124;43m/content/JUIndoorLoc-Training-data.csv\u001b[39;49m\u001b[38;5;124;43m\"\u001b[39;49m\u001b[43m)\u001b[49m\n\u001b[0;32m      2\u001b[0m data_train\u001b[38;5;241m.\u001b[39mhead(\u001b[38;5;241m5\u001b[39m)\n",
      "File \u001b[1;32m~\\AppData\\Local\\Programs\\Python\\Python312\\Lib\\site-packages\\pandas\\io\\parsers\\readers.py:948\u001b[0m, in \u001b[0;36mread_csv\u001b[1;34m(filepath_or_buffer, sep, delimiter, header, names, index_col, usecols, dtype, engine, converters, true_values, false_values, skipinitialspace, skiprows, skipfooter, nrows, na_values, keep_default_na, na_filter, verbose, skip_blank_lines, parse_dates, infer_datetime_format, keep_date_col, date_parser, date_format, dayfirst, cache_dates, iterator, chunksize, compression, thousands, decimal, lineterminator, quotechar, quoting, doublequote, escapechar, comment, encoding, encoding_errors, dialect, on_bad_lines, delim_whitespace, low_memory, memory_map, float_precision, storage_options, dtype_backend)\u001b[0m\n\u001b[0;32m    935\u001b[0m kwds_defaults \u001b[38;5;241m=\u001b[39m _refine_defaults_read(\n\u001b[0;32m    936\u001b[0m     dialect,\n\u001b[0;32m    937\u001b[0m     delimiter,\n\u001b[1;32m   (...)\u001b[0m\n\u001b[0;32m    944\u001b[0m     dtype_backend\u001b[38;5;241m=\u001b[39mdtype_backend,\n\u001b[0;32m    945\u001b[0m )\n\u001b[0;32m    946\u001b[0m kwds\u001b[38;5;241m.\u001b[39mupdate(kwds_defaults)\n\u001b[1;32m--> 948\u001b[0m \u001b[38;5;28;01mreturn\u001b[39;00m \u001b[43m_read\u001b[49m\u001b[43m(\u001b[49m\u001b[43mfilepath_or_buffer\u001b[49m\u001b[43m,\u001b[49m\u001b[43m \u001b[49m\u001b[43mkwds\u001b[49m\u001b[43m)\u001b[49m\n",
      "File \u001b[1;32m~\\AppData\\Local\\Programs\\Python\\Python312\\Lib\\site-packages\\pandas\\io\\parsers\\readers.py:611\u001b[0m, in \u001b[0;36m_read\u001b[1;34m(filepath_or_buffer, kwds)\u001b[0m\n\u001b[0;32m    608\u001b[0m _validate_names(kwds\u001b[38;5;241m.\u001b[39mget(\u001b[38;5;124m\"\u001b[39m\u001b[38;5;124mnames\u001b[39m\u001b[38;5;124m\"\u001b[39m, \u001b[38;5;28;01mNone\u001b[39;00m))\n\u001b[0;32m    610\u001b[0m \u001b[38;5;66;03m# Create the parser.\u001b[39;00m\n\u001b[1;32m--> 611\u001b[0m parser \u001b[38;5;241m=\u001b[39m \u001b[43mTextFileReader\u001b[49m\u001b[43m(\u001b[49m\u001b[43mfilepath_or_buffer\u001b[49m\u001b[43m,\u001b[49m\u001b[43m \u001b[49m\u001b[38;5;241;43m*\u001b[39;49m\u001b[38;5;241;43m*\u001b[39;49m\u001b[43mkwds\u001b[49m\u001b[43m)\u001b[49m\n\u001b[0;32m    613\u001b[0m \u001b[38;5;28;01mif\u001b[39;00m chunksize \u001b[38;5;129;01mor\u001b[39;00m iterator:\n\u001b[0;32m    614\u001b[0m     \u001b[38;5;28;01mreturn\u001b[39;00m parser\n",
      "File \u001b[1;32m~\\AppData\\Local\\Programs\\Python\\Python312\\Lib\\site-packages\\pandas\\io\\parsers\\readers.py:1448\u001b[0m, in \u001b[0;36mTextFileReader.__init__\u001b[1;34m(self, f, engine, **kwds)\u001b[0m\n\u001b[0;32m   1445\u001b[0m     \u001b[38;5;28mself\u001b[39m\u001b[38;5;241m.\u001b[39moptions[\u001b[38;5;124m\"\u001b[39m\u001b[38;5;124mhas_index_names\u001b[39m\u001b[38;5;124m\"\u001b[39m] \u001b[38;5;241m=\u001b[39m kwds[\u001b[38;5;124m\"\u001b[39m\u001b[38;5;124mhas_index_names\u001b[39m\u001b[38;5;124m\"\u001b[39m]\n\u001b[0;32m   1447\u001b[0m \u001b[38;5;28mself\u001b[39m\u001b[38;5;241m.\u001b[39mhandles: IOHandles \u001b[38;5;241m|\u001b[39m \u001b[38;5;28;01mNone\u001b[39;00m \u001b[38;5;241m=\u001b[39m \u001b[38;5;28;01mNone\u001b[39;00m\n\u001b[1;32m-> 1448\u001b[0m \u001b[38;5;28mself\u001b[39m\u001b[38;5;241m.\u001b[39m_engine \u001b[38;5;241m=\u001b[39m \u001b[38;5;28;43mself\u001b[39;49m\u001b[38;5;241;43m.\u001b[39;49m\u001b[43m_make_engine\u001b[49m\u001b[43m(\u001b[49m\u001b[43mf\u001b[49m\u001b[43m,\u001b[49m\u001b[43m \u001b[49m\u001b[38;5;28;43mself\u001b[39;49m\u001b[38;5;241;43m.\u001b[39;49m\u001b[43mengine\u001b[49m\u001b[43m)\u001b[49m\n",
      "File \u001b[1;32m~\\AppData\\Local\\Programs\\Python\\Python312\\Lib\\site-packages\\pandas\\io\\parsers\\readers.py:1705\u001b[0m, in \u001b[0;36mTextFileReader._make_engine\u001b[1;34m(self, f, engine)\u001b[0m\n\u001b[0;32m   1703\u001b[0m     \u001b[38;5;28;01mif\u001b[39;00m \u001b[38;5;124m\"\u001b[39m\u001b[38;5;124mb\u001b[39m\u001b[38;5;124m\"\u001b[39m \u001b[38;5;129;01mnot\u001b[39;00m \u001b[38;5;129;01min\u001b[39;00m mode:\n\u001b[0;32m   1704\u001b[0m         mode \u001b[38;5;241m+\u001b[39m\u001b[38;5;241m=\u001b[39m \u001b[38;5;124m\"\u001b[39m\u001b[38;5;124mb\u001b[39m\u001b[38;5;124m\"\u001b[39m\n\u001b[1;32m-> 1705\u001b[0m \u001b[38;5;28mself\u001b[39m\u001b[38;5;241m.\u001b[39mhandles \u001b[38;5;241m=\u001b[39m \u001b[43mget_handle\u001b[49m\u001b[43m(\u001b[49m\n\u001b[0;32m   1706\u001b[0m \u001b[43m    \u001b[49m\u001b[43mf\u001b[49m\u001b[43m,\u001b[49m\n\u001b[0;32m   1707\u001b[0m \u001b[43m    \u001b[49m\u001b[43mmode\u001b[49m\u001b[43m,\u001b[49m\n\u001b[0;32m   1708\u001b[0m \u001b[43m    \u001b[49m\u001b[43mencoding\u001b[49m\u001b[38;5;241;43m=\u001b[39;49m\u001b[38;5;28;43mself\u001b[39;49m\u001b[38;5;241;43m.\u001b[39;49m\u001b[43moptions\u001b[49m\u001b[38;5;241;43m.\u001b[39;49m\u001b[43mget\u001b[49m\u001b[43m(\u001b[49m\u001b[38;5;124;43m\"\u001b[39;49m\u001b[38;5;124;43mencoding\u001b[39;49m\u001b[38;5;124;43m\"\u001b[39;49m\u001b[43m,\u001b[49m\u001b[43m \u001b[49m\u001b[38;5;28;43;01mNone\u001b[39;49;00m\u001b[43m)\u001b[49m\u001b[43m,\u001b[49m\n\u001b[0;32m   1709\u001b[0m \u001b[43m    \u001b[49m\u001b[43mcompression\u001b[49m\u001b[38;5;241;43m=\u001b[39;49m\u001b[38;5;28;43mself\u001b[39;49m\u001b[38;5;241;43m.\u001b[39;49m\u001b[43moptions\u001b[49m\u001b[38;5;241;43m.\u001b[39;49m\u001b[43mget\u001b[49m\u001b[43m(\u001b[49m\u001b[38;5;124;43m\"\u001b[39;49m\u001b[38;5;124;43mcompression\u001b[39;49m\u001b[38;5;124;43m\"\u001b[39;49m\u001b[43m,\u001b[49m\u001b[43m \u001b[49m\u001b[38;5;28;43;01mNone\u001b[39;49;00m\u001b[43m)\u001b[49m\u001b[43m,\u001b[49m\n\u001b[0;32m   1710\u001b[0m \u001b[43m    \u001b[49m\u001b[43mmemory_map\u001b[49m\u001b[38;5;241;43m=\u001b[39;49m\u001b[38;5;28;43mself\u001b[39;49m\u001b[38;5;241;43m.\u001b[39;49m\u001b[43moptions\u001b[49m\u001b[38;5;241;43m.\u001b[39;49m\u001b[43mget\u001b[49m\u001b[43m(\u001b[49m\u001b[38;5;124;43m\"\u001b[39;49m\u001b[38;5;124;43mmemory_map\u001b[39;49m\u001b[38;5;124;43m\"\u001b[39;49m\u001b[43m,\u001b[49m\u001b[43m \u001b[49m\u001b[38;5;28;43;01mFalse\u001b[39;49;00m\u001b[43m)\u001b[49m\u001b[43m,\u001b[49m\n\u001b[0;32m   1711\u001b[0m \u001b[43m    \u001b[49m\u001b[43mis_text\u001b[49m\u001b[38;5;241;43m=\u001b[39;49m\u001b[43mis_text\u001b[49m\u001b[43m,\u001b[49m\n\u001b[0;32m   1712\u001b[0m \u001b[43m    \u001b[49m\u001b[43merrors\u001b[49m\u001b[38;5;241;43m=\u001b[39;49m\u001b[38;5;28;43mself\u001b[39;49m\u001b[38;5;241;43m.\u001b[39;49m\u001b[43moptions\u001b[49m\u001b[38;5;241;43m.\u001b[39;49m\u001b[43mget\u001b[49m\u001b[43m(\u001b[49m\u001b[38;5;124;43m\"\u001b[39;49m\u001b[38;5;124;43mencoding_errors\u001b[39;49m\u001b[38;5;124;43m\"\u001b[39;49m\u001b[43m,\u001b[49m\u001b[43m \u001b[49m\u001b[38;5;124;43m\"\u001b[39;49m\u001b[38;5;124;43mstrict\u001b[39;49m\u001b[38;5;124;43m\"\u001b[39;49m\u001b[43m)\u001b[49m\u001b[43m,\u001b[49m\n\u001b[0;32m   1713\u001b[0m \u001b[43m    \u001b[49m\u001b[43mstorage_options\u001b[49m\u001b[38;5;241;43m=\u001b[39;49m\u001b[38;5;28;43mself\u001b[39;49m\u001b[38;5;241;43m.\u001b[39;49m\u001b[43moptions\u001b[49m\u001b[38;5;241;43m.\u001b[39;49m\u001b[43mget\u001b[49m\u001b[43m(\u001b[49m\u001b[38;5;124;43m\"\u001b[39;49m\u001b[38;5;124;43mstorage_options\u001b[39;49m\u001b[38;5;124;43m\"\u001b[39;49m\u001b[43m,\u001b[49m\u001b[43m \u001b[49m\u001b[38;5;28;43;01mNone\u001b[39;49;00m\u001b[43m)\u001b[49m\u001b[43m,\u001b[49m\n\u001b[0;32m   1714\u001b[0m \u001b[43m\u001b[49m\u001b[43m)\u001b[49m\n\u001b[0;32m   1715\u001b[0m \u001b[38;5;28;01massert\u001b[39;00m \u001b[38;5;28mself\u001b[39m\u001b[38;5;241m.\u001b[39mhandles \u001b[38;5;129;01mis\u001b[39;00m \u001b[38;5;129;01mnot\u001b[39;00m \u001b[38;5;28;01mNone\u001b[39;00m\n\u001b[0;32m   1716\u001b[0m f \u001b[38;5;241m=\u001b[39m \u001b[38;5;28mself\u001b[39m\u001b[38;5;241m.\u001b[39mhandles\u001b[38;5;241m.\u001b[39mhandle\n",
      "File \u001b[1;32m~\\AppData\\Local\\Programs\\Python\\Python312\\Lib\\site-packages\\pandas\\io\\common.py:863\u001b[0m, in \u001b[0;36mget_handle\u001b[1;34m(path_or_buf, mode, encoding, compression, memory_map, is_text, errors, storage_options)\u001b[0m\n\u001b[0;32m    858\u001b[0m \u001b[38;5;28;01melif\u001b[39;00m \u001b[38;5;28misinstance\u001b[39m(handle, \u001b[38;5;28mstr\u001b[39m):\n\u001b[0;32m    859\u001b[0m     \u001b[38;5;66;03m# Check whether the filename is to be opened in binary mode.\u001b[39;00m\n\u001b[0;32m    860\u001b[0m     \u001b[38;5;66;03m# Binary mode does not support 'encoding' and 'newline'.\u001b[39;00m\n\u001b[0;32m    861\u001b[0m     \u001b[38;5;28;01mif\u001b[39;00m ioargs\u001b[38;5;241m.\u001b[39mencoding \u001b[38;5;129;01mand\u001b[39;00m \u001b[38;5;124m\"\u001b[39m\u001b[38;5;124mb\u001b[39m\u001b[38;5;124m\"\u001b[39m \u001b[38;5;129;01mnot\u001b[39;00m \u001b[38;5;129;01min\u001b[39;00m ioargs\u001b[38;5;241m.\u001b[39mmode:\n\u001b[0;32m    862\u001b[0m         \u001b[38;5;66;03m# Encoding\u001b[39;00m\n\u001b[1;32m--> 863\u001b[0m         handle \u001b[38;5;241m=\u001b[39m \u001b[38;5;28;43mopen\u001b[39;49m\u001b[43m(\u001b[49m\n\u001b[0;32m    864\u001b[0m \u001b[43m            \u001b[49m\u001b[43mhandle\u001b[49m\u001b[43m,\u001b[49m\n\u001b[0;32m    865\u001b[0m \u001b[43m            \u001b[49m\u001b[43mioargs\u001b[49m\u001b[38;5;241;43m.\u001b[39;49m\u001b[43mmode\u001b[49m\u001b[43m,\u001b[49m\n\u001b[0;32m    866\u001b[0m \u001b[43m            \u001b[49m\u001b[43mencoding\u001b[49m\u001b[38;5;241;43m=\u001b[39;49m\u001b[43mioargs\u001b[49m\u001b[38;5;241;43m.\u001b[39;49m\u001b[43mencoding\u001b[49m\u001b[43m,\u001b[49m\n\u001b[0;32m    867\u001b[0m \u001b[43m            \u001b[49m\u001b[43merrors\u001b[49m\u001b[38;5;241;43m=\u001b[39;49m\u001b[43merrors\u001b[49m\u001b[43m,\u001b[49m\n\u001b[0;32m    868\u001b[0m \u001b[43m            \u001b[49m\u001b[43mnewline\u001b[49m\u001b[38;5;241;43m=\u001b[39;49m\u001b[38;5;124;43m\"\u001b[39;49m\u001b[38;5;124;43m\"\u001b[39;49m\u001b[43m,\u001b[49m\n\u001b[0;32m    869\u001b[0m \u001b[43m        \u001b[49m\u001b[43m)\u001b[49m\n\u001b[0;32m    870\u001b[0m     \u001b[38;5;28;01melse\u001b[39;00m:\n\u001b[0;32m    871\u001b[0m         \u001b[38;5;66;03m# Binary mode\u001b[39;00m\n\u001b[0;32m    872\u001b[0m         handle \u001b[38;5;241m=\u001b[39m \u001b[38;5;28mopen\u001b[39m(handle, ioargs\u001b[38;5;241m.\u001b[39mmode)\n",
      "\u001b[1;31mFileNotFoundError\u001b[0m: [Errno 2] No such file or directory: '/content/JUIndoorLoc-Training-data.csv'"
     ]
    }
   ],
   "source": [
    "data_train = pd.read_csv(\"/content/JUIndoorLoc-Training-data.csv\")\n",
    "data_train.head(5)"
   ]
  },
  {
   "cell_type": "code",
   "execution_count": null,
   "metadata": {
    "id": "tio2zzHFKw5l"
   },
   "outputs": [],
   "source": [
    "data_train['Did'] = data_train['Did'].astype(str).str[1]\n",
    "data_train['Did'] = pd.to_numeric(data_train['Did'])"
   ]
  },
  {
   "cell_type": "code",
   "execution_count": null,
   "metadata": {
    "colab": {
     "base_uri": "https://localhost:8080/",
     "height": 235
    },
    "id": "mne4I6_F819I",
    "outputId": "0c02e3f9-158e-49ac-f398-4d77d811819d"
   },
   "outputs": [
    {
     "data": {
      "text/html": [
       "\n",
       "\n",
       "  <div id=\"df-08d0373b-53f7-4bd0-bd01-2af987099070\">\n",
       "    <div class=\"colab-df-container\">\n",
       "      <div>\n",
       "<style scoped>\n",
       "    .dataframe tbody tr th:only-of-type {\n",
       "        vertical-align: middle;\n",
       "    }\n",
       "\n",
       "    .dataframe tbody tr th {\n",
       "        vertical-align: top;\n",
       "    }\n",
       "\n",
       "    .dataframe thead th {\n",
       "        text-align: right;\n",
       "    }\n",
       "</style>\n",
       "<table border=\"1\" class=\"dataframe\">\n",
       "  <thead>\n",
       "    <tr style=\"text-align: right;\">\n",
       "      <th></th>\n",
       "      <th>Cid</th>\n",
       "      <th>AP001</th>\n",
       "      <th>AP002</th>\n",
       "      <th>AP003</th>\n",
       "      <th>AP004</th>\n",
       "      <th>AP005</th>\n",
       "      <th>AP006</th>\n",
       "      <th>AP007</th>\n",
       "      <th>AP008</th>\n",
       "      <th>AP009</th>\n",
       "      <th>...</th>\n",
       "      <th>AP167</th>\n",
       "      <th>AP168</th>\n",
       "      <th>AP169</th>\n",
       "      <th>AP170</th>\n",
       "      <th>AP171</th>\n",
       "      <th>AP172</th>\n",
       "      <th>Rs</th>\n",
       "      <th>Hpr</th>\n",
       "      <th>Did</th>\n",
       "      <th>Ts</th>\n",
       "    </tr>\n",
       "  </thead>\n",
       "  <tbody>\n",
       "    <tr>\n",
       "      <th>0</th>\n",
       "      <td>L4-33-13</td>\n",
       "      <td>-77</td>\n",
       "      <td>-58</td>\n",
       "      <td>-66</td>\n",
       "      <td>-64</td>\n",
       "      <td>-92</td>\n",
       "      <td>-66</td>\n",
       "      <td>-66</td>\n",
       "      <td>-93</td>\n",
       "      <td>-93</td>\n",
       "      <td>...</td>\n",
       "      <td>-110</td>\n",
       "      <td>-110</td>\n",
       "      <td>-110</td>\n",
       "      <td>-110</td>\n",
       "      <td>-110</td>\n",
       "      <td>-110</td>\n",
       "      <td>0</td>\n",
       "      <td>0</td>\n",
       "      <td>D2</td>\n",
       "      <td>1489813137748</td>\n",
       "    </tr>\n",
       "    <tr>\n",
       "      <th>1</th>\n",
       "      <td>L4-33-13</td>\n",
       "      <td>-90</td>\n",
       "      <td>-58</td>\n",
       "      <td>-78</td>\n",
       "      <td>-56</td>\n",
       "      <td>-92</td>\n",
       "      <td>-74</td>\n",
       "      <td>-74</td>\n",
       "      <td>-87</td>\n",
       "      <td>-93</td>\n",
       "      <td>...</td>\n",
       "      <td>-110</td>\n",
       "      <td>-110</td>\n",
       "      <td>-110</td>\n",
       "      <td>-110</td>\n",
       "      <td>-110</td>\n",
       "      <td>-110</td>\n",
       "      <td>0</td>\n",
       "      <td>0</td>\n",
       "      <td>D2</td>\n",
       "      <td>1489813179138</td>\n",
       "    </tr>\n",
       "    <tr>\n",
       "      <th>2</th>\n",
       "      <td>L4-33-13</td>\n",
       "      <td>-80</td>\n",
       "      <td>-64</td>\n",
       "      <td>-78</td>\n",
       "      <td>-56</td>\n",
       "      <td>-92</td>\n",
       "      <td>-74</td>\n",
       "      <td>-74</td>\n",
       "      <td>-87</td>\n",
       "      <td>-93</td>\n",
       "      <td>...</td>\n",
       "      <td>-110</td>\n",
       "      <td>-110</td>\n",
       "      <td>-110</td>\n",
       "      <td>-110</td>\n",
       "      <td>-110</td>\n",
       "      <td>-110</td>\n",
       "      <td>0</td>\n",
       "      <td>0</td>\n",
       "      <td>D2</td>\n",
       "      <td>1489812948443</td>\n",
       "    </tr>\n",
       "    <tr>\n",
       "      <th>3</th>\n",
       "      <td>L4-33-13</td>\n",
       "      <td>-72</td>\n",
       "      <td>-60</td>\n",
       "      <td>-74</td>\n",
       "      <td>-58</td>\n",
       "      <td>-93</td>\n",
       "      <td>-75</td>\n",
       "      <td>-76</td>\n",
       "      <td>-95</td>\n",
       "      <td>-93</td>\n",
       "      <td>...</td>\n",
       "      <td>-110</td>\n",
       "      <td>-110</td>\n",
       "      <td>-110</td>\n",
       "      <td>-110</td>\n",
       "      <td>-110</td>\n",
       "      <td>-110</td>\n",
       "      <td>0</td>\n",
       "      <td>0</td>\n",
       "      <td>D2</td>\n",
       "      <td>1489812959103</td>\n",
       "    </tr>\n",
       "    <tr>\n",
       "      <th>4</th>\n",
       "      <td>L4-33-13</td>\n",
       "      <td>-82</td>\n",
       "      <td>-56</td>\n",
       "      <td>-74</td>\n",
       "      <td>-56</td>\n",
       "      <td>-93</td>\n",
       "      <td>-71</td>\n",
       "      <td>-76</td>\n",
       "      <td>-89</td>\n",
       "      <td>-110</td>\n",
       "      <td>...</td>\n",
       "      <td>-110</td>\n",
       "      <td>-110</td>\n",
       "      <td>-110</td>\n",
       "      <td>-110</td>\n",
       "      <td>-110</td>\n",
       "      <td>-110</td>\n",
       "      <td>0</td>\n",
       "      <td>0</td>\n",
       "      <td>D2</td>\n",
       "      <td>1489813079167</td>\n",
       "    </tr>\n",
       "  </tbody>\n",
       "</table>\n",
       "<p>5 rows × 177 columns</p>\n",
       "</div>\n",
       "      <button class=\"colab-df-convert\" onclick=\"convertToInteractive('df-08d0373b-53f7-4bd0-bd01-2af987099070')\"\n",
       "              title=\"Convert this dataframe to an interactive table.\"\n",
       "              style=\"display:none;\">\n",
       "\n",
       "  <svg xmlns=\"http://www.w3.org/2000/svg\" height=\"24px\"viewBox=\"0 0 24 24\"\n",
       "       width=\"24px\">\n",
       "    <path d=\"M0 0h24v24H0V0z\" fill=\"none\"/>\n",
       "    <path d=\"M18.56 5.44l.94 2.06.94-2.06 2.06-.94-2.06-.94-.94-2.06-.94 2.06-2.06.94zm-11 1L8.5 8.5l.94-2.06 2.06-.94-2.06-.94L8.5 2.5l-.94 2.06-2.06.94zm10 10l.94 2.06.94-2.06 2.06-.94-2.06-.94-.94-2.06-.94 2.06-2.06.94z\"/><path d=\"M17.41 7.96l-1.37-1.37c-.4-.4-.92-.59-1.43-.59-.52 0-1.04.2-1.43.59L10.3 9.45l-7.72 7.72c-.78.78-.78 2.05 0 2.83L4 21.41c.39.39.9.59 1.41.59.51 0 1.02-.2 1.41-.59l7.78-7.78 2.81-2.81c.8-.78.8-2.07 0-2.86zM5.41 20L4 18.59l7.72-7.72 1.47 1.35L5.41 20z\"/>\n",
       "  </svg>\n",
       "      </button>\n",
       "\n",
       "\n",
       "\n",
       "    <div id=\"df-f79fc2b1-545c-4d84-857e-45d9701bcd31\">\n",
       "      <button class=\"colab-df-quickchart\" onclick=\"quickchart('df-f79fc2b1-545c-4d84-857e-45d9701bcd31')\"\n",
       "              title=\"Suggest charts.\"\n",
       "              style=\"display:none;\">\n",
       "\n",
       "<svg xmlns=\"http://www.w3.org/2000/svg\" height=\"24px\"viewBox=\"0 0 24 24\"\n",
       "     width=\"24px\">\n",
       "    <g>\n",
       "        <path d=\"M19 3H5c-1.1 0-2 .9-2 2v14c0 1.1.9 2 2 2h14c1.1 0 2-.9 2-2V5c0-1.1-.9-2-2-2zM9 17H7v-7h2v7zm4 0h-2V7h2v10zm4 0h-2v-4h2v4z\"/>\n",
       "    </g>\n",
       "</svg>\n",
       "      </button>\n",
       "    </div>\n",
       "\n",
       "<style>\n",
       "  .colab-df-quickchart {\n",
       "    background-color: #E8F0FE;\n",
       "    border: none;\n",
       "    border-radius: 50%;\n",
       "    cursor: pointer;\n",
       "    display: none;\n",
       "    fill: #1967D2;\n",
       "    height: 32px;\n",
       "    padding: 0 0 0 0;\n",
       "    width: 32px;\n",
       "  }\n",
       "\n",
       "  .colab-df-quickchart:hover {\n",
       "    background-color: #E2EBFA;\n",
       "    box-shadow: 0px 1px 2px rgba(60, 64, 67, 0.3), 0px 1px 3px 1px rgba(60, 64, 67, 0.15);\n",
       "    fill: #174EA6;\n",
       "  }\n",
       "\n",
       "  [theme=dark] .colab-df-quickchart {\n",
       "    background-color: #3B4455;\n",
       "    fill: #D2E3FC;\n",
       "  }\n",
       "\n",
       "  [theme=dark] .colab-df-quickchart:hover {\n",
       "    background-color: #434B5C;\n",
       "    box-shadow: 0px 1px 3px 1px rgba(0, 0, 0, 0.15);\n",
       "    filter: drop-shadow(0px 1px 2px rgba(0, 0, 0, 0.3));\n",
       "    fill: #FFFFFF;\n",
       "  }\n",
       "</style>\n",
       "\n",
       "    <script>\n",
       "      async function quickchart(key) {\n",
       "        const containerElement = document.querySelector('#' + key);\n",
       "        const charts = await google.colab.kernel.invokeFunction(\n",
       "            'suggestCharts', [key], {});\n",
       "      }\n",
       "    </script>\n",
       "\n",
       "      <script>\n",
       "\n",
       "function displayQuickchartButton(domScope) {\n",
       "  let quickchartButtonEl =\n",
       "    domScope.querySelector('#df-f79fc2b1-545c-4d84-857e-45d9701bcd31 button.colab-df-quickchart');\n",
       "  quickchartButtonEl.style.display =\n",
       "    google.colab.kernel.accessAllowed ? 'block' : 'none';\n",
       "}\n",
       "\n",
       "        displayQuickchartButton(document);\n",
       "      </script>\n",
       "      <style>\n",
       "    .colab-df-container {\n",
       "      display:flex;\n",
       "      flex-wrap:wrap;\n",
       "      gap: 12px;\n",
       "    }\n",
       "\n",
       "    .colab-df-convert {\n",
       "      background-color: #E8F0FE;\n",
       "      border: none;\n",
       "      border-radius: 50%;\n",
       "      cursor: pointer;\n",
       "      display: none;\n",
       "      fill: #1967D2;\n",
       "      height: 32px;\n",
       "      padding: 0 0 0 0;\n",
       "      width: 32px;\n",
       "    }\n",
       "\n",
       "    .colab-df-convert:hover {\n",
       "      background-color: #E2EBFA;\n",
       "      box-shadow: 0px 1px 2px rgba(60, 64, 67, 0.3), 0px 1px 3px 1px rgba(60, 64, 67, 0.15);\n",
       "      fill: #174EA6;\n",
       "    }\n",
       "\n",
       "    [theme=dark] .colab-df-convert {\n",
       "      background-color: #3B4455;\n",
       "      fill: #D2E3FC;\n",
       "    }\n",
       "\n",
       "    [theme=dark] .colab-df-convert:hover {\n",
       "      background-color: #434B5C;\n",
       "      box-shadow: 0px 1px 3px 1px rgba(0, 0, 0, 0.15);\n",
       "      filter: drop-shadow(0px 1px 2px rgba(0, 0, 0, 0.3));\n",
       "      fill: #FFFFFF;\n",
       "    }\n",
       "  </style>\n",
       "\n",
       "      <script>\n",
       "        const buttonEl =\n",
       "          document.querySelector('#df-08d0373b-53f7-4bd0-bd01-2af987099070 button.colab-df-convert');\n",
       "        buttonEl.style.display =\n",
       "          google.colab.kernel.accessAllowed ? 'block' : 'none';\n",
       "\n",
       "        async function convertToInteractive(key) {\n",
       "          const element = document.querySelector('#df-08d0373b-53f7-4bd0-bd01-2af987099070');\n",
       "          const dataTable =\n",
       "            await google.colab.kernel.invokeFunction('convertToInteractive',\n",
       "                                                     [key], {});\n",
       "          if (!dataTable) return;\n",
       "\n",
       "          const docLinkHtml = 'Like what you see? Visit the ' +\n",
       "            '<a target=\"_blank\" href=https://colab.research.google.com/notebooks/data_table.ipynb>data table notebook</a>'\n",
       "            + ' to learn more about interactive tables.';\n",
       "          element.innerHTML = '';\n",
       "          dataTable['output_type'] = 'display_data';\n",
       "          await google.colab.output.renderOutput(dataTable, element);\n",
       "          const docLink = document.createElement('div');\n",
       "          docLink.innerHTML = docLinkHtml;\n",
       "          element.appendChild(docLink);\n",
       "        }\n",
       "      </script>\n",
       "    </div>\n",
       "  </div>\n"
      ],
      "text/plain": [
       "        Cid  AP001  AP002  AP003  AP004  AP005  AP006  AP007  AP008  AP009  \\\n",
       "0  L4-33-13    -77    -58    -66    -64    -92    -66    -66    -93    -93   \n",
       "1  L4-33-13    -90    -58    -78    -56    -92    -74    -74    -87    -93   \n",
       "2  L4-33-13    -80    -64    -78    -56    -92    -74    -74    -87    -93   \n",
       "3  L4-33-13    -72    -60    -74    -58    -93    -75    -76    -95    -93   \n",
       "4  L4-33-13    -82    -56    -74    -56    -93    -71    -76    -89   -110   \n",
       "\n",
       "   ...  AP167  AP168  AP169  AP170  AP171  AP172  Rs  Hpr  Did             Ts  \n",
       "0  ...   -110   -110   -110   -110   -110   -110   0    0   D2  1489813137748  \n",
       "1  ...   -110   -110   -110   -110   -110   -110   0    0   D2  1489813179138  \n",
       "2  ...   -110   -110   -110   -110   -110   -110   0    0   D2  1489812948443  \n",
       "3  ...   -110   -110   -110   -110   -110   -110   0    0   D2  1489812959103  \n",
       "4  ...   -110   -110   -110   -110   -110   -110   0    0   D2  1489813079167  \n",
       "\n",
       "[5 rows x 177 columns]"
      ]
     },
     "execution_count": 5,
     "metadata": {},
     "output_type": "execute_result"
    }
   ],
   "source": [
    "data_test = pd.read_csv(\"/content/JUIndoorLoc-Test-data.csv\")\n",
    "data_test.head(5)"
   ]
  },
  {
   "cell_type": "code",
   "execution_count": null,
   "metadata": {
    "id": "Dj5-ZRSfMCWu"
   },
   "outputs": [],
   "source": [
    "data_test['Did'] = data_test['Did'].astype(str).str[1]\n",
    "data_test['Did'] = pd.to_numeric(data_test['Did'])"
   ]
  },
  {
   "cell_type": "markdown",
   "metadata": {
    "id": "ui7TGJEgg2uh"
   },
   "source": [
    "# Training Base Model"
   ]
  },
  {
   "cell_type": "code",
   "execution_count": null,
   "metadata": {
    "id": "uLIv8Xfhg6Gp"
   },
   "outputs": [],
   "source": [
    "def TrainingBaseModel(clf, DATA_TRAIN, f):\n",
    "  b = 0\n",
    "  TR = {} #Whole Train Set 1...b\n",
    "  OPCV = {} #KFOLD Results 1....b\n",
    "  for g in range(1,f+1):\n",
    "    for h in range(1,f+1):\n",
    "      if not (h==g) and (h>g):\n",
    "        # make a Train sets\n",
    "        TR[\"{},{}\".format(g,h)] = DATA_TRAIN.loc[(DATA_TRAIN['Did'] == g) | (DATA_TRAIN['Did'] == h)]\n",
    "\n",
    "        #make X_train from Tr\n",
    "        XTR = TR[\"{},{}\".format(g,h)].loc[:, (TR[\"{},{}\".format(g,h)].columns != 'Ts') & (TR[\"{},{}\".format(g,h)].columns != 'Cid')]\n",
    "        # XTrain_dummies = pd.get_dummies(XTR, columns = ['Did'])\n",
    "        X_train = XTR\n",
    "\n",
    "        #make Y_train from Tr (Y_true)\n",
    "        Y_train = TR[\"{},{}\".format(g,h)].Cid\n",
    "        Y_true = Y_train\n",
    "        # define 10 Fold Cross Validation\n",
    "        cv = KFold(n_splits=10, random_state=1, shuffle=True)\n",
    "\n",
    "        #make model\n",
    "        c = clf\n",
    "        # Label of Train set\n",
    "        b = b + 1\n",
    "\n",
    "        # Prediction Y_pred\n",
    "        Y_pred = cross_val_predict(c, X_train, Y_train, cv=cv, n_jobs = 1, method = 'predict')\n",
    "\n",
    "        OPCV[b] = {}\n",
    "        OPCV[b]['actual'] = Y_true\n",
    "        OPCV[b]['predict'] = Y_pred\n",
    "\n",
    "        print(\"Tr({},{}):\".format(g,h))\n",
    "        print(\"validation accuracy: {:.2%}\".format(accuracy_score(Y_true, Y_pred)))\n",
    "        print(\"----------------------------\\n\")\n",
    "  return OPCV, b\n"
   ]
  },
  {
   "cell_type": "markdown",
   "metadata": {
    "id": "PLfZU323J2L6"
   },
   "source": [
    "# Weight Determination (Algorithm 2)"
   ]
  },
  {
   "cell_type": "code",
   "execution_count": null,
   "metadata": {
    "id": "Ax4pvHbp5IHt"
   },
   "outputs": [],
   "source": [
    "def WeightDetermine(opcv, b):\n",
    "  T = np.empty([b])\n",
    "  for q in range(1,b+1):\n",
    "    alpha = 1\n",
    "    beta = 1\n",
    "    sigma = 0.2\n",
    "    for i in range(opcv[q]['actual'].size):\n",
    "      actl = opcv[q]['actual'].to_numpy()[i]\n",
    "      prd = (opcv[q]['predict'][i])\n",
    "      if actl == prd:\n",
    "        alpha = alpha + sigma\n",
    "      else:\n",
    "        beta = beta + sigma\n",
    "\n",
    "    un = (12*alpha*beta)/(((alpha+beta)**2)*(1+alpha+beta))\n",
    "    bl = (alpha*(1-un))/(alpha+beta)\n",
    "    T[q-1] = bl + 0.5 * un\n",
    "  sumT = np.sum(T)\n",
    "  W = T/sumT\n",
    "  return W"
   ]
  },
  {
   "cell_type": "markdown",
   "metadata": {
    "id": "50vAHcvzIYVw"
   },
   "source": [
    "# Classification"
   ]
  },
  {
   "cell_type": "code",
   "execution_count": null,
   "metadata": {
    "id": "4k9cJx-xG4M4"
   },
   "outputs": [],
   "source": [
    "def Classification(clf, DATA_TRAIN, DATA_TEST, f):\n",
    "  TR = {} #Whole Train Set 1...b\n",
    "\n",
    "  # make test dataset\n",
    "  Te = DATA_TEST.loc[:, (DATA_TEST.columns != 'Ts')]\n",
    "  X_test = DATA_TEST.loc[:, (DATA_TEST.columns != 'Ts') & (DATA_TEST.columns != 'Cid')]\n",
    "  Y_test = DATA_TEST.Cid\n",
    "  OPTE = {}\n",
    "  q = 0\n",
    "  for g in range(1,f+1):\n",
    "    for h in range(1,f+1):\n",
    "      if not (h==g) and (h>g):\n",
    "        # make a Train sets\n",
    "        TR[\"{},{}\".format(g,h)] = DATA_TRAIN.loc[(DATA_TRAIN['Did'] == g) | (DATA_TRAIN['Did'] == h)]\n",
    "\n",
    "        #make X_train from Tr\n",
    "        XTR = TR[\"{},{}\".format(g,h)].loc[:, (TR[\"{},{}\".format(g,h)].columns != 'Ts') & (TR[\"{},{}\".format(g,h)].columns != 'Cid')]\n",
    "        X_train = XTR\n",
    "\n",
    "        #make Y_train from Tr\n",
    "        Y_train = TR[\"{},{}\".format(g,h)].Cid\n",
    "\n",
    "        # make model\n",
    "        c = clf\n",
    "        c.fit(X_train, Y_train)\n",
    "\n",
    "\n",
    "        # prediction\n",
    "        Y_pred = c.predict(X_test)\n",
    "\n",
    "        q = q+1\n",
    "        OPTE[q] = {}\n",
    "        OPTE[q]['actual'] = Y_test\n",
    "        OPTE[q]['pred'] = Y_pred\n",
    "\n",
    "        print(\"Tr({},{}):\".format(g,h))\n",
    "        print(\"Test accuracy: {:.2%}\".format(accuracy_score(Y_test, Y_pred)))\n",
    "        print(\"----------------------------\\n\")\n",
    "\n",
    "  return OPTE"
   ]
  },
  {
   "cell_type": "markdown",
   "metadata": {
    "id": "TeucUWgOauYh"
   },
   "source": [
    "# Weight Voting (Algorithm 3)"
   ]
  },
  {
   "cell_type": "code",
   "execution_count": null,
   "metadata": {
    "id": "Eb352DMtBnEF"
   },
   "outputs": [],
   "source": [
    "def WeightVoting(opte,DATA_TRAIN, DATA_TEST, w, b):\n",
    "  lk = DATA_TRAIN.Cid.unique()\n",
    "  o = lk.shape[0]\n",
    "  kapa_buf = []\n",
    "  for i in range(0, DATA_TEST.shape[0]):\n",
    "    P = np.zeros(o)\n",
    "    for q in range(1,b+1):\n",
    "      for k in range(1, o+1):\n",
    "        if lk[k-1] == opte[q]['pred'][i]:\n",
    "          z = 1\n",
    "        else:\n",
    "          z = 0\n",
    "        P[k-1] = P[k-1] + w[q-1] * z\n",
    "    kapa_buf.append(lk[np.argmax(P)])\n",
    "  kapa = np.array(kapa_buf, dtype=object)\n",
    "\n",
    "  return kapa\n"
   ]
  },
  {
   "cell_type": "markdown",
   "metadata": {
    "id": "9IKm5ueOA-_h"
   },
   "source": [
    "## Weighted Ensemble Classifier (Algorithm 1)"
   ]
  },
  {
   "cell_type": "code",
   "execution_count": null,
   "metadata": {
    "id": "klKu8AAoacsE"
   },
   "outputs": [],
   "source": [
    "def WeightedEnsembleClassifier(clf, DATA_TRAIN, DATA_TEST):\n",
    "  b = 0\n",
    "  f = 4\n",
    "  W = None\n",
    "\n",
    "  if W == None:\n",
    "    print(\"<----------- Training base model ----------->\")\n",
    "    OPCV, b = TrainingBaseModel(clf, DATA_TRAIN, f)\n",
    "\n",
    "    print(\"\\n\\n<----------- Weight Determination ----------->\")\n",
    "    W = WeightDetermine(OPCV, b)\n",
    "    print(\"W is: {}\".format(W))\n",
    "    print(\"\\n\\n<--------------- Classification --------------->\")\n",
    "    OPTE = Classification(clf, DATA_TRAIN, DATA_TEST, f)\n",
    "\n",
    "    print(\"\\n\\n<--------------- Weight Voting --------------->\")\n",
    "    KAPA = WeightVoting(OPTE,DATA_TRAIN, DATA_TEST, W, b)\n",
    "    print(\"weighted ensemble accuracy: {:.2%}\".format(accuracy_score(DATA_TEST.Cid, KAPA)))"
   ]
  },
  {
   "cell_type": "code",
   "execution_count": null,
   "metadata": {
    "colab": {
     "base_uri": "https://localhost:8080/"
    },
    "id": "sWb8dst-fNjj",
    "outputId": "f94638ca-acdb-4d07-fa69-71731a24e8fc"
   },
   "outputs": [
    {
     "name": "stdout",
     "output_type": "stream",
     "text": [
      "<----------- Training base model ----------->\n",
      "Tr(1,2):\n",
      "validation accuracy: 93.05%\n",
      "----------------------------\n",
      "\n",
      "Tr(1,3):\n",
      "validation accuracy: 96.06%\n",
      "----------------------------\n",
      "\n",
      "Tr(1,4):\n",
      "validation accuracy: 95.71%\n",
      "----------------------------\n",
      "\n",
      "Tr(2,3):\n",
      "validation accuracy: 94.71%\n",
      "----------------------------\n",
      "\n",
      "Tr(2,4):\n",
      "validation accuracy: 95.41%\n",
      "----------------------------\n",
      "\n",
      "Tr(3,4):\n",
      "validation accuracy: 99.20%\n",
      "----------------------------\n",
      "\n",
      "\n",
      "\n",
      "<----------- Weight Determination ----------->\n",
      "W is: [0.1620667  0.16729219 0.16668107 0.16496976 0.16619587 0.1727944 ]\n",
      "\n",
      "\n",
      "<--------------- Classification --------------->\n",
      "Tr(1,2):\n",
      "Test accuracy: 93.63%\n",
      "----------------------------\n",
      "\n",
      "Tr(1,3):\n",
      "Test accuracy: 24.73%\n",
      "----------------------------\n",
      "\n",
      "Tr(1,4):\n",
      "Test accuracy: 25.34%\n",
      "----------------------------\n",
      "\n",
      "Tr(2,3):\n",
      "Test accuracy: 90.75%\n",
      "----------------------------\n",
      "\n",
      "Tr(2,4):\n",
      "Test accuracy: 95.82%\n",
      "----------------------------\n",
      "\n",
      "Tr(3,4):\n",
      "Test accuracy: 25.68%\n",
      "----------------------------\n",
      "\n",
      "\n",
      "\n",
      "<--------------- Weight Voting --------------->\n",
      "weighted ensemble accuracy: 50.41%\n"
     ]
    }
   ],
   "source": [
    "# clf = KNeighborsClassifier(n_neighbors=5)\n",
    "clf = SVC(kernel='linear',gamma='scale')\n",
    "WeightedEnsembleClassifier(clf, data_train,data_test)"
   ]
  },
  {
   "cell_type": "code",
   "execution_count": null,
   "metadata": {
    "colab": {
     "base_uri": "https://localhost:8080/"
    },
    "id": "QsnjtfBVzg21",
    "outputId": "8a966791-e6a4-4c32-acd9-ce4b0bcbc620"
   },
   "outputs": [
    {
     "name": "stdout",
     "output_type": "stream",
     "text": [
      "<----------- Training base model ----------->\n",
      "Tr(1,2):\n",
      "validation accuracy: 63.19%\n",
      "----------------------------\n",
      "\n",
      "Tr(1,3):\n",
      "validation accuracy: 59.53%\n",
      "----------------------------\n",
      "\n",
      "Tr(1,4):\n",
      "validation accuracy: 60.78%\n",
      "----------------------------\n",
      "\n",
      "Tr(2,3):\n",
      "validation accuracy: 77.16%\n",
      "----------------------------\n",
      "\n",
      "Tr(2,4):\n",
      "validation accuracy: 77.70%\n",
      "----------------------------\n",
      "\n",
      "Tr(3,4):\n",
      "validation accuracy: 93.77%\n",
      "----------------------------\n",
      "\n",
      "\n",
      "\n",
      "<----------- Weight Determination ----------->\n",
      "W is: [0.14623092 0.13777427 0.14066384 0.17854094 0.17980523 0.21698481]\n",
      "\n",
      "\n",
      "<--------------- Classification --------------->\n",
      "Tr(1,2):\n",
      "Test accuracy: 92.88%\n",
      "----------------------------\n",
      "\n",
      "Tr(1,3):\n",
      "Test accuracy: 27.33%\n",
      "----------------------------\n",
      "\n",
      "Tr(1,4):\n",
      "Test accuracy: 27.40%\n",
      "----------------------------\n",
      "\n",
      "Tr(2,3):\n",
      "Test accuracy: 94.79%\n",
      "----------------------------\n",
      "\n",
      "Tr(2,4):\n",
      "Test accuracy: 98.77%\n",
      "----------------------------\n",
      "\n",
      "Tr(3,4):\n",
      "Test accuracy: 28.08%\n",
      "----------------------------\n",
      "\n",
      "\n",
      "\n",
      "<--------------- Weight Voting --------------->\n",
      "weighted ensemble accuracy: 98.77%\n"
     ]
    }
   ],
   "source": [
    "clf = KNeighborsClassifier(n_neighbors=5)\n",
    "WeightedEnsembleClassifier(clf, data_train,data_test)"
   ]
  }
 ],
 "metadata": {
  "colab": {
   "provenance": []
  },
  "kernelspec": {
   "display_name": "Python 3 (ipykernel)",
   "language": "python",
   "name": "python3"
  },
  "language_info": {
   "codemirror_mode": {
    "name": "ipython",
    "version": 3
   },
   "file_extension": ".py",
   "mimetype": "text/x-python",
   "name": "python",
   "nbconvert_exporter": "python",
   "pygments_lexer": "ipython3",
   "version": "3.12.0"
  }
 },
 "nbformat": 4,
 "nbformat_minor": 4
}
