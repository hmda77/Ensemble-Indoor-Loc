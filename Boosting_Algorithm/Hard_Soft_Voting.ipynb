{
  "nbformat": 4,
  "nbformat_minor": 0,
  "metadata": {
    "colab": {
      "provenance": []
    },
    "kernelspec": {
      "name": "python3",
      "display_name": "Python 3"
    },
    "language_info": {
      "name": "python"
    }
  },
  "cells": [
    {
      "cell_type": "code",
      "execution_count": 1,
      "metadata": {
        "id": "ihFsLvCKq7eI"
      },
      "outputs": [],
      "source": [
        "!cd ./Desktop/Projects/Ensemble-Indoor-Loc/"
      ]
    },
    {
      "cell_type": "code",
      "source": [
        "import numpy as np\n",
        "import pandas as pd\n",
        "\n",
        "import matplotlib.pyplot as plt\n",
        "from sklearn.model_selection import train_test_split\n",
        "from sklearn.metrics import accuracy_score, recall_score, f1_score, confusion_matrix, roc_curve, roc_auc_score, classification_report\n",
        "from sklearn.preprocessing import label_binarize\n",
        "from sklearn.preprocessing import LabelEncoder\n",
        "from sklearn.preprocessing import OrdinalEncoder , normalize\n",
        "from sklearn.model_selection import ShuffleSplit\n",
        "from itertools import cycle\n",
        "\n",
        "import seaborn as sns\n",
        "\n",
        "from sklearn.model_selection import KFold\n",
        "from sklearn.model_selection import cross_val_score, cross_val_predict\n",
        "from sklearn.model_selection import cross_val_score\n",
        "\n",
        "from sklearn.neighbors import KNeighborsClassifier\n",
        "from sklearn.linear_model import LogisticRegression\n",
        "from sklearn.naive_bayes import GaussianNB\n",
        "from sklearn.ensemble import RandomForestClassifier\n",
        "\n",
        "from sklearn.ensemble import VotingClassifier\n",
        "\n",
        "from matplotlib import pyplot"
      ],
      "metadata": {
        "id": "xBR8PBuUsBfg"
      },
      "execution_count": 23,
      "outputs": []
    },
    {
      "cell_type": "markdown",
      "metadata": {
        "id": "GdoO4aI6I8fE"
      },
      "source": [
        "# Metric Functions\n"
      ]
    },
    {
      "cell_type": "code",
      "execution_count": 5,
      "metadata": {
        "id": "Zi7CwCFPFrbe"
      },
      "outputs": [],
      "source": [
        "\n",
        "# Make the confusion matrix\n",
        "def confusion_plot(y_test,y_pred,title):\n",
        "    cmt = confusion_matrix(y_test,y_pred)\n",
        "    plt.rcParams['figure.figsize'] = (10,8)\n",
        "    sns.heatmap(cmt,fmt='',annot=True,linewidth=0.01,cmap=sns.cubehelix_palette(as_cmap=True))\n",
        "    plt.title(\"confusion matrix {}\".format(title))\n",
        "    plt.xlabel(\"predicted\")\n",
        "    plt.ylabel(\"true\")\n",
        "    plt.show()\n",
        "\n",
        "\n",
        "# generate classification report\n",
        "def generate_classification_report(y_test,y_pred):\n",
        "    report=pd.DataFrame.from_dict(classification_report(y_pred,y_test,output_dict=True)).T\n",
        "    # report['Label']=[data_classes[i]  if i<5 else \" \" for i,x in enumerate(report.index)]\n",
        "    report=report[['f1-score','precision','recall','support']]\n",
        "    pd.set_option('display.max_rows', report.shape[0]+1)\n",
        "    return report\n",
        "\n",
        "# ROC Curve\n",
        "def plot_roc_curve(y_test,proba,pos_label):\n",
        "    fpr, tpr, thresholds = roc_curve(y_test, proba[:,pos_label], pos_label= pos_label)\n",
        "    roc_auc = roc_auc_score(y_test, proba, multi_class='ovr')\n",
        "\n",
        "    plt.rcParams['figure.figsize'] = (5,4)\n",
        "    plt.plot(fpr, tpr,'k:',lw=5, label='average ROC curve (area = {0:0.2f})'.format(roc_auc))\n",
        "    plt.plot([0 ,1],[0 ,1],'r')\n",
        "    plt.legend(loc=\"lower right\")\n",
        "    # plt.title('ROC Curve for calss {0}'.format(data_classes[pos_label]))\n",
        "    plt.ylabel('True Positive Rate')\n",
        "    plt.xlabel('False Positive Rate')\n",
        "    plt.show()\n",
        "\n",
        "\n",
        "# ROC Curve for all classes\n",
        "def plot_roc_curve_all(y_test,proba,n_class,title):\n",
        "    for i in range(n_class):\n",
        "      fpr, tpr, thresholds = roc_curve(y_test, proba[:,i],pos_label= i)\n",
        "      plt.plot(fpr, tpr,lw=1)\n",
        "    plt.plot([0 ,1],[0 ,1],'r')\n",
        "    plt.title('ROC Curve for all classes in {}'.format(title))\n",
        "    plt.ylabel('True Positive Rate')\n",
        "    plt.xlabel('False Positive Rate')\n",
        "    # plt.legend(data_classes)\n",
        "    plt.show()"
      ]
    },
    {
      "cell_type": "markdown",
      "metadata": {
        "id": "J9QZmLojmkEd"
      },
      "source": [
        "#Dateset Proccesses"
      ]
    },
    {
      "cell_type": "code",
      "execution_count": 6,
      "metadata": {
        "colab": {
          "base_uri": "https://localhost:8080/",
          "height": 375
        },
        "id": "qX55ZOjn_jna",
        "outputId": "e7601a31-c7fa-407a-e4c6-6eed93a4aae5"
      },
      "outputs": [
        {
          "output_type": "stream",
          "name": "stderr",
          "text": [
            "<>:1: SyntaxWarning: invalid escape sequence '\\H'\n",
            "<>:3: SyntaxWarning: invalid escape sequence '\\H'\n",
            "<>:1: SyntaxWarning: invalid escape sequence '\\H'\n",
            "<>:3: SyntaxWarning: invalid escape sequence '\\H'\n",
            "C:\\Users\\Hamid\\AppData\\Local\\Temp\\ipykernel_2888\\2129459651.py:1: SyntaxWarning: invalid escape sequence '\\H'\n",
            "  data_train = pd.read_csv(\"C:\\\\Users\\Hamid\\content\\JUIndoorLoc-Training-data.csv\")\n",
            "C:\\Users\\Hamid\\AppData\\Local\\Temp\\ipykernel_2888\\2129459651.py:3: SyntaxWarning: invalid escape sequence '\\H'\n",
            "  data_test = pd.read_csv(\"C:\\\\Users\\Hamid\\content\\JUIndoorLoc-Test-data.csv\")\n"
          ]
        },
        {
          "output_type": "execute_result",
          "data": {
            "text/plain": [
              "        Cid  AP001  AP002  AP003  AP004  AP005  AP006  AP007  AP008  AP009  \\\n",
              "0  L4-33-13    -77    -58    -66    -64    -92    -66    -66    -93    -93   \n",
              "1  L4-33-13    -90    -58    -78    -56    -92    -74    -74    -87    -93   \n",
              "2  L4-33-13    -80    -64    -78    -56    -92    -74    -74    -87    -93   \n",
              "3  L4-33-13    -72    -60    -74    -58    -93    -75    -76    -95    -93   \n",
              "4  L4-33-13    -82    -56    -74    -56    -93    -71    -76    -89   -110   \n",
              "\n",
              "   ...  AP167  AP168  AP169  AP170  AP171  AP172  Rs  Hpr  Did             Ts  \n",
              "0  ...   -110   -110   -110   -110   -110   -110   0    0   D2  1489813137748  \n",
              "1  ...   -110   -110   -110   -110   -110   -110   0    0   D2  1489813179138  \n",
              "2  ...   -110   -110   -110   -110   -110   -110   0    0   D2  1489812948443  \n",
              "3  ...   -110   -110   -110   -110   -110   -110   0    0   D2  1489812959103  \n",
              "4  ...   -110   -110   -110   -110   -110   -110   0    0   D2  1489813079167  \n",
              "\n",
              "[5 rows x 177 columns]"
            ],
            "text/html": [
              "<div>\n",
              "<style scoped>\n",
              "    .dataframe tbody tr th:only-of-type {\n",
              "        vertical-align: middle;\n",
              "    }\n",
              "\n",
              "    .dataframe tbody tr th {\n",
              "        vertical-align: top;\n",
              "    }\n",
              "\n",
              "    .dataframe thead th {\n",
              "        text-align: right;\n",
              "    }\n",
              "</style>\n",
              "<table border=\"1\" class=\"dataframe\">\n",
              "  <thead>\n",
              "    <tr style=\"text-align: right;\">\n",
              "      <th></th>\n",
              "      <th>Cid</th>\n",
              "      <th>AP001</th>\n",
              "      <th>AP002</th>\n",
              "      <th>AP003</th>\n",
              "      <th>AP004</th>\n",
              "      <th>AP005</th>\n",
              "      <th>AP006</th>\n",
              "      <th>AP007</th>\n",
              "      <th>AP008</th>\n",
              "      <th>AP009</th>\n",
              "      <th>...</th>\n",
              "      <th>AP167</th>\n",
              "      <th>AP168</th>\n",
              "      <th>AP169</th>\n",
              "      <th>AP170</th>\n",
              "      <th>AP171</th>\n",
              "      <th>AP172</th>\n",
              "      <th>Rs</th>\n",
              "      <th>Hpr</th>\n",
              "      <th>Did</th>\n",
              "      <th>Ts</th>\n",
              "    </tr>\n",
              "  </thead>\n",
              "  <tbody>\n",
              "    <tr>\n",
              "      <th>0</th>\n",
              "      <td>L4-33-13</td>\n",
              "      <td>-77</td>\n",
              "      <td>-58</td>\n",
              "      <td>-66</td>\n",
              "      <td>-64</td>\n",
              "      <td>-92</td>\n",
              "      <td>-66</td>\n",
              "      <td>-66</td>\n",
              "      <td>-93</td>\n",
              "      <td>-93</td>\n",
              "      <td>...</td>\n",
              "      <td>-110</td>\n",
              "      <td>-110</td>\n",
              "      <td>-110</td>\n",
              "      <td>-110</td>\n",
              "      <td>-110</td>\n",
              "      <td>-110</td>\n",
              "      <td>0</td>\n",
              "      <td>0</td>\n",
              "      <td>D2</td>\n",
              "      <td>1489813137748</td>\n",
              "    </tr>\n",
              "    <tr>\n",
              "      <th>1</th>\n",
              "      <td>L4-33-13</td>\n",
              "      <td>-90</td>\n",
              "      <td>-58</td>\n",
              "      <td>-78</td>\n",
              "      <td>-56</td>\n",
              "      <td>-92</td>\n",
              "      <td>-74</td>\n",
              "      <td>-74</td>\n",
              "      <td>-87</td>\n",
              "      <td>-93</td>\n",
              "      <td>...</td>\n",
              "      <td>-110</td>\n",
              "      <td>-110</td>\n",
              "      <td>-110</td>\n",
              "      <td>-110</td>\n",
              "      <td>-110</td>\n",
              "      <td>-110</td>\n",
              "      <td>0</td>\n",
              "      <td>0</td>\n",
              "      <td>D2</td>\n",
              "      <td>1489813179138</td>\n",
              "    </tr>\n",
              "    <tr>\n",
              "      <th>2</th>\n",
              "      <td>L4-33-13</td>\n",
              "      <td>-80</td>\n",
              "      <td>-64</td>\n",
              "      <td>-78</td>\n",
              "      <td>-56</td>\n",
              "      <td>-92</td>\n",
              "      <td>-74</td>\n",
              "      <td>-74</td>\n",
              "      <td>-87</td>\n",
              "      <td>-93</td>\n",
              "      <td>...</td>\n",
              "      <td>-110</td>\n",
              "      <td>-110</td>\n",
              "      <td>-110</td>\n",
              "      <td>-110</td>\n",
              "      <td>-110</td>\n",
              "      <td>-110</td>\n",
              "      <td>0</td>\n",
              "      <td>0</td>\n",
              "      <td>D2</td>\n",
              "      <td>1489812948443</td>\n",
              "    </tr>\n",
              "    <tr>\n",
              "      <th>3</th>\n",
              "      <td>L4-33-13</td>\n",
              "      <td>-72</td>\n",
              "      <td>-60</td>\n",
              "      <td>-74</td>\n",
              "      <td>-58</td>\n",
              "      <td>-93</td>\n",
              "      <td>-75</td>\n",
              "      <td>-76</td>\n",
              "      <td>-95</td>\n",
              "      <td>-93</td>\n",
              "      <td>...</td>\n",
              "      <td>-110</td>\n",
              "      <td>-110</td>\n",
              "      <td>-110</td>\n",
              "      <td>-110</td>\n",
              "      <td>-110</td>\n",
              "      <td>-110</td>\n",
              "      <td>0</td>\n",
              "      <td>0</td>\n",
              "      <td>D2</td>\n",
              "      <td>1489812959103</td>\n",
              "    </tr>\n",
              "    <tr>\n",
              "      <th>4</th>\n",
              "      <td>L4-33-13</td>\n",
              "      <td>-82</td>\n",
              "      <td>-56</td>\n",
              "      <td>-74</td>\n",
              "      <td>-56</td>\n",
              "      <td>-93</td>\n",
              "      <td>-71</td>\n",
              "      <td>-76</td>\n",
              "      <td>-89</td>\n",
              "      <td>-110</td>\n",
              "      <td>...</td>\n",
              "      <td>-110</td>\n",
              "      <td>-110</td>\n",
              "      <td>-110</td>\n",
              "      <td>-110</td>\n",
              "      <td>-110</td>\n",
              "      <td>-110</td>\n",
              "      <td>0</td>\n",
              "      <td>0</td>\n",
              "      <td>D2</td>\n",
              "      <td>1489813079167</td>\n",
              "    </tr>\n",
              "  </tbody>\n",
              "</table>\n",
              "<p>5 rows × 177 columns</p>\n",
              "</div>"
            ]
          },
          "metadata": {},
          "execution_count": 6
        }
      ],
      "source": [
        "data_train = pd.read_csv(\"C:\\\\Users\\Hamid\\content\\JUIndoorLoc-Training-data.csv\")\n",
        "data_train.head(5)\n",
        "data_test = pd.read_csv(\"C:\\\\Users\\Hamid\\content\\JUIndoorLoc-Test-data.csv\")\n",
        "data_test.head(5)"
      ]
    },
    {
      "cell_type": "code",
      "execution_count": 7,
      "metadata": {
        "id": "XGFO8cDV_tNq",
        "colab": {
          "base_uri": "https://localhost:8080/",
          "height": 236
        },
        "outputId": "1e172e2d-86d6-4c30-b406-a68449024fdf"
      },
      "outputs": [
        {
          "output_type": "execute_result",
          "data": {
            "text/plain": [
              "       Cid  AP001  AP002  AP003  AP004  AP005  AP006  AP007  AP008  AP009  \\\n",
              "0  L4-40-1    -84    -80    -71    -58   -110    -72    -71   -110   -110   \n",
              "1  L4-40-1    -84    -79    -71    -58   -110    -72    -71   -110   -110   \n",
              "2  L4-40-1   -110   -110    -70    -56   -110    -69    -68   -110   -110   \n",
              "3  L4-40-1   -110   -110    -70    -53   -110    -69    -68   -110   -110   \n",
              "4  L4-37-2    -84    -82    -75    -65   -110    -73    -75   -110   -110   \n",
              "\n",
              "   ...  AP167  AP168  AP169  AP170  AP171  AP172  Rs  Hpr  Did             Ts  \n",
              "0  ...   -110   -110   -110   -110   -110   -110   0    1   D4  1469870570949  \n",
              "1  ...   -110   -110   -110   -110   -110   -110   0    1   D4  1470047205646  \n",
              "2  ...   -110   -110   -110   -110   -110   -110   0    1   D4  1469870932338  \n",
              "3  ...   -110   -110   -110   -110   -110   -110   0    1   D4  1470047629440  \n",
              "4  ...   -110   -110   -110   -110   -110   -110   0    1   D4  1469876622694  \n",
              "\n",
              "[5 rows x 177 columns]"
            ],
            "text/html": [
              "<div>\n",
              "<style scoped>\n",
              "    .dataframe tbody tr th:only-of-type {\n",
              "        vertical-align: middle;\n",
              "    }\n",
              "\n",
              "    .dataframe tbody tr th {\n",
              "        vertical-align: top;\n",
              "    }\n",
              "\n",
              "    .dataframe thead th {\n",
              "        text-align: right;\n",
              "    }\n",
              "</style>\n",
              "<table border=\"1\" class=\"dataframe\">\n",
              "  <thead>\n",
              "    <tr style=\"text-align: right;\">\n",
              "      <th></th>\n",
              "      <th>Cid</th>\n",
              "      <th>AP001</th>\n",
              "      <th>AP002</th>\n",
              "      <th>AP003</th>\n",
              "      <th>AP004</th>\n",
              "      <th>AP005</th>\n",
              "      <th>AP006</th>\n",
              "      <th>AP007</th>\n",
              "      <th>AP008</th>\n",
              "      <th>AP009</th>\n",
              "      <th>...</th>\n",
              "      <th>AP167</th>\n",
              "      <th>AP168</th>\n",
              "      <th>AP169</th>\n",
              "      <th>AP170</th>\n",
              "      <th>AP171</th>\n",
              "      <th>AP172</th>\n",
              "      <th>Rs</th>\n",
              "      <th>Hpr</th>\n",
              "      <th>Did</th>\n",
              "      <th>Ts</th>\n",
              "    </tr>\n",
              "  </thead>\n",
              "  <tbody>\n",
              "    <tr>\n",
              "      <th>0</th>\n",
              "      <td>L4-40-1</td>\n",
              "      <td>-84</td>\n",
              "      <td>-80</td>\n",
              "      <td>-71</td>\n",
              "      <td>-58</td>\n",
              "      <td>-110</td>\n",
              "      <td>-72</td>\n",
              "      <td>-71</td>\n",
              "      <td>-110</td>\n",
              "      <td>-110</td>\n",
              "      <td>...</td>\n",
              "      <td>-110</td>\n",
              "      <td>-110</td>\n",
              "      <td>-110</td>\n",
              "      <td>-110</td>\n",
              "      <td>-110</td>\n",
              "      <td>-110</td>\n",
              "      <td>0</td>\n",
              "      <td>1</td>\n",
              "      <td>D4</td>\n",
              "      <td>1469870570949</td>\n",
              "    </tr>\n",
              "    <tr>\n",
              "      <th>1</th>\n",
              "      <td>L4-40-1</td>\n",
              "      <td>-84</td>\n",
              "      <td>-79</td>\n",
              "      <td>-71</td>\n",
              "      <td>-58</td>\n",
              "      <td>-110</td>\n",
              "      <td>-72</td>\n",
              "      <td>-71</td>\n",
              "      <td>-110</td>\n",
              "      <td>-110</td>\n",
              "      <td>...</td>\n",
              "      <td>-110</td>\n",
              "      <td>-110</td>\n",
              "      <td>-110</td>\n",
              "      <td>-110</td>\n",
              "      <td>-110</td>\n",
              "      <td>-110</td>\n",
              "      <td>0</td>\n",
              "      <td>1</td>\n",
              "      <td>D4</td>\n",
              "      <td>1470047205646</td>\n",
              "    </tr>\n",
              "    <tr>\n",
              "      <th>2</th>\n",
              "      <td>L4-40-1</td>\n",
              "      <td>-110</td>\n",
              "      <td>-110</td>\n",
              "      <td>-70</td>\n",
              "      <td>-56</td>\n",
              "      <td>-110</td>\n",
              "      <td>-69</td>\n",
              "      <td>-68</td>\n",
              "      <td>-110</td>\n",
              "      <td>-110</td>\n",
              "      <td>...</td>\n",
              "      <td>-110</td>\n",
              "      <td>-110</td>\n",
              "      <td>-110</td>\n",
              "      <td>-110</td>\n",
              "      <td>-110</td>\n",
              "      <td>-110</td>\n",
              "      <td>0</td>\n",
              "      <td>1</td>\n",
              "      <td>D4</td>\n",
              "      <td>1469870932338</td>\n",
              "    </tr>\n",
              "    <tr>\n",
              "      <th>3</th>\n",
              "      <td>L4-40-1</td>\n",
              "      <td>-110</td>\n",
              "      <td>-110</td>\n",
              "      <td>-70</td>\n",
              "      <td>-53</td>\n",
              "      <td>-110</td>\n",
              "      <td>-69</td>\n",
              "      <td>-68</td>\n",
              "      <td>-110</td>\n",
              "      <td>-110</td>\n",
              "      <td>...</td>\n",
              "      <td>-110</td>\n",
              "      <td>-110</td>\n",
              "      <td>-110</td>\n",
              "      <td>-110</td>\n",
              "      <td>-110</td>\n",
              "      <td>-110</td>\n",
              "      <td>0</td>\n",
              "      <td>1</td>\n",
              "      <td>D4</td>\n",
              "      <td>1470047629440</td>\n",
              "    </tr>\n",
              "    <tr>\n",
              "      <th>4</th>\n",
              "      <td>L4-37-2</td>\n",
              "      <td>-84</td>\n",
              "      <td>-82</td>\n",
              "      <td>-75</td>\n",
              "      <td>-65</td>\n",
              "      <td>-110</td>\n",
              "      <td>-73</td>\n",
              "      <td>-75</td>\n",
              "      <td>-110</td>\n",
              "      <td>-110</td>\n",
              "      <td>...</td>\n",
              "      <td>-110</td>\n",
              "      <td>-110</td>\n",
              "      <td>-110</td>\n",
              "      <td>-110</td>\n",
              "      <td>-110</td>\n",
              "      <td>-110</td>\n",
              "      <td>0</td>\n",
              "      <td>1</td>\n",
              "      <td>D4</td>\n",
              "      <td>1469876622694</td>\n",
              "    </tr>\n",
              "  </tbody>\n",
              "</table>\n",
              "<p>5 rows × 177 columns</p>\n",
              "</div>"
            ]
          },
          "metadata": {},
          "execution_count": 7
        }
      ],
      "source": [
        "frames = [data_train, data_test]\n",
        "mergedDataset = pd.concat(frames)\n",
        "mergedDataset.head(5)"
      ]
    },
    {
      "cell_type": "code",
      "execution_count": 8,
      "metadata": {
        "id": "uyUdWlSE__RL"
      },
      "outputs": [],
      "source": [
        "mergedDataset['Did'] = mergedDataset['Did'].astype(str).str[1]\n",
        "mergedDataset['Did'] = pd.to_numeric(mergedDataset['Did'])"
      ]
    },
    {
      "cell_type": "code",
      "execution_count": 9,
      "metadata": {
        "id": "-mH1DN6gBPub"
      },
      "outputs": [],
      "source": [
        "#make X_train from Tr\n",
        "X = mergedDataset.loc[:, (mergedDataset.columns != 'Ts') & (mergedDataset.columns != 'Cid')]\n",
        "y = mergedDataset.Cid\n",
        "\n",
        "\n",
        "\n",
        "le = LabelEncoder()\n",
        "le.fit(y)\n",
        "le.transform(y)\n",
        "\n",
        "\n",
        "X_train = X\n",
        "y_train_encode =  le.transform(y)\n"
      ]
    },
    {
      "cell_type": "code",
      "execution_count": 10,
      "metadata": {
        "colab": {
          "base_uri": "https://localhost:8080/"
        },
        "id": "__Ve8Q_402Og",
        "outputId": "8c8ef5ae-5046-422f-e518-b1ef40ee8c64"
      },
      "outputs": [
        {
          "output_type": "stream",
          "name": "stdout",
          "text": [
            "991\n",
            "991\n"
          ]
        }
      ],
      "source": [
        "print(len(np.unique(y_train_encode)))\n",
        "print(len(y.unique()))"
      ]
    },
    {
      "cell_type": "markdown",
      "source": [
        "# KNN With Shuffle"
      ],
      "metadata": {
        "id": "hE8qpczPs7ko"
      }
    },
    {
      "cell_type": "code",
      "source": [
        "knn_model = KNeighborsClassifier(n_neighbors=5,n_jobs = -1)\n",
        "cv = ShuffleSplit(n_splits=5, test_size=0.15, random_state=42)\n",
        "scores = cross_val_score(knn_model, X_train, y_train_encode, cv=cv)"
      ],
      "metadata": {
        "id": "TY9yVU44s6px"
      },
      "execution_count": 11,
      "outputs": []
    },
    {
      "cell_type": "code",
      "source": [
        "scores"
      ],
      "metadata": {
        "colab": {
          "base_uri": "https://localhost:8080/"
        },
        "id": "w4u3VduMtqTI",
        "outputId": "d3dc5c77-b1c0-42c3-c760-b16f5ac19b0f"
      },
      "execution_count": 12,
      "outputs": [
        {
          "output_type": "execute_result",
          "data": {
            "text/plain": [
              "array([0.79211564, 0.78528252, 0.78107753, 0.7892247 , 0.77713535])"
            ]
          },
          "metadata": {},
          "execution_count": 12
        }
      ]
    },
    {
      "cell_type": "markdown",
      "source": [],
      "metadata": {
        "id": "inrYRRi8ttcn"
      }
    },
    {
      "cell_type": "markdown",
      "source": [
        "# Logestic Regression"
      ],
      "metadata": {
        "id": "EoNXGbCjulgp"
      }
    },
    {
      "cell_type": "code",
      "source": [
        "logestic_regression = LogisticRegression(random_state=1,n_jobs = -1)\n",
        "cv = ShuffleSplit(n_splits=5, test_size=0.15, random_state=42)\n",
        "scores = cross_val_score(logestic_regression, X_train, y_train_encode, cv=cv)"
      ],
      "metadata": {
        "id": "qbM-9bRqupI4"
      },
      "execution_count": 14,
      "outputs": []
    },
    {
      "cell_type": "code",
      "source": [
        "scores"
      ],
      "metadata": {
        "colab": {
          "base_uri": "https://localhost:8080/"
        },
        "id": "V5Qs42cLvXlg",
        "outputId": "40212da5-a646-4c97-cffc-e36891c70dc3"
      },
      "execution_count": 15,
      "outputs": [
        {
          "output_type": "execute_result",
          "data": {
            "text/plain": [
              "array([0.40236531, 0.42286465, 0.41997372, 0.42785808, 0.4260184 ])"
            ]
          },
          "metadata": {},
          "execution_count": 15
        }
      ]
    },
    {
      "cell_type": "markdown",
      "source": [
        "# Gaussian Naive Bayse"
      ],
      "metadata": {
        "id": "AsBh6k15v29Z"
      }
    },
    {
      "cell_type": "code",
      "source": [
        "gaussian_nb = GaussianNB()\n",
        "scores = cross_val_score(gaussian_nb, X_train, y_train_encode, cv=cv)"
      ],
      "metadata": {
        "id": "3asjVIUXv-Kv"
      },
      "execution_count": 16,
      "outputs": []
    },
    {
      "cell_type": "code",
      "source": [
        "scores"
      ],
      "metadata": {
        "colab": {
          "base_uri": "https://localhost:8080/"
        },
        "id": "0d7Y5ErZwoBZ",
        "outputId": "8d6c9185-62b1-4e5f-b0b0-41c436e317f6"
      },
      "execution_count": 17,
      "outputs": [
        {
          "output_type": "execute_result",
          "data": {
            "text/plain": [
              "array([0.43390276, 0.41576873, 0.42417871, 0.42812089, 0.43574244])"
            ]
          },
          "metadata": {},
          "execution_count": 17
        }
      ]
    },
    {
      "cell_type": "markdown",
      "source": [
        "# Random Forest"
      ],
      "metadata": {
        "id": "WKLYGHDNxL8n"
      }
    },
    {
      "cell_type": "code",
      "source": [
        "n_estimators = 100\n",
        "rf_model = RandomForestClassifier(n_estimators=n_estimators, max_depth=None,\n",
        "                                      min_samples_split=2, random_state=42)\n",
        "scores = cross_val_score(rf_model, X_train, y_train_encode, cv=cv)"
      ],
      "metadata": {
        "id": "EpB0aVLkwvln"
      },
      "execution_count": 20,
      "outputs": []
    },
    {
      "cell_type": "code",
      "source": [
        "scores"
      ],
      "metadata": {
        "colab": {
          "base_uri": "https://localhost:8080/"
        },
        "id": "jNxiSKkvxUxX",
        "outputId": "17b24983-f8fd-4dfa-d6e2-1453107f0cb2"
      },
      "execution_count": 21,
      "outputs": [
        {
          "output_type": "execute_result",
          "data": {
            "text/plain": [
              "array([0.96688568, 0.97082786, 0.97240473, 0.97503285, 0.96714849])"
            ]
          },
          "metadata": {},
          "execution_count": 21
        }
      ]
    },
    {
      "cell_type": "markdown",
      "source": [
        "# Hard Voting"
      ],
      "metadata": {
        "id": "kFouK5kvyYhB"
      }
    },
    {
      "cell_type": "code",
      "source": [
        "hard_voting = VotingClassifier(\n",
        "     estimators=[('lr', logestic_regression), ('rf', rf_model), ('gnb', gaussian_nb),('knn', knn_model)],\n",
        "     voting='hard')\n",
        "scores = cross_val_score(hard_voting, X_train, y_train_encode, cv=cv)"
      ],
      "metadata": {
        "id": "XkCDuNQbyewn"
      },
      "execution_count": 24,
      "outputs": []
    },
    {
      "cell_type": "code",
      "source": [
        "scores"
      ],
      "metadata": {
        "colab": {
          "base_uri": "https://localhost:8080/"
        },
        "id": "bEwGjN8jzCmI",
        "outputId": "4968e3ed-d072-4085-db9a-c2478469aa87"
      },
      "execution_count": 25,
      "outputs": [
        {
          "output_type": "execute_result",
          "data": {
            "text/plain": [
              "array([0.8412615 , 0.83942181, 0.84809461, 0.84678055, 0.85151117])"
            ]
          },
          "metadata": {},
          "execution_count": 25
        }
      ]
    },
    {
      "cell_type": "markdown",
      "source": [
        "# Weighted Average Probabilities (Soft Voting)"
      ],
      "metadata": {
        "id": "tuYz2rXnzElO"
      }
    },
    {
      "cell_type": "code",
      "source": [
        "soft_voting= VotingClassifier(\n",
        "     estimators=[('lr', logestic_regression), ('rf', rf_model), ('gnb', gaussian_nb),('knn', knn_model)],\n",
        "     voting='soft',\n",
        "     weights=[1, 2, 1, 2])\n",
        "scores = cross_val_score(hard_voting, X_train, y_train_encode, cv=cv)"
      ],
      "metadata": {
        "id": "KtuyovHzzMVe"
      },
      "execution_count": 26,
      "outputs": []
    },
    {
      "cell_type": "code",
      "source": [
        "scores"
      ],
      "metadata": {
        "colab": {
          "base_uri": "https://localhost:8080/"
        },
        "id": "gDkwb2gm0Eiu",
        "outputId": "29570c84-bc70-4cd0-f5cb-f437b1cb4c71"
      },
      "execution_count": 27,
      "outputs": [
        {
          "output_type": "execute_result",
          "data": {
            "text/plain": [
              "array([0.8412615 , 0.83942181, 0.84809461, 0.84678055, 0.85151117])"
            ]
          },
          "metadata": {},
          "execution_count": 27
        }
      ]
    },
    {
      "cell_type": "code",
      "source": [
        "print(\"Accuracy: %0.2f (+/- %0.2f)\" % (scores.mean(), scores.std()))"
      ],
      "metadata": {
        "colab": {
          "base_uri": "https://localhost:8080/"
        },
        "id": "9mf-OJrjz07P",
        "outputId": "907be45c-17e0-4120-b7bf-f342f9b5f3cd"
      },
      "execution_count": 28,
      "outputs": [
        {
          "output_type": "stream",
          "name": "stdout",
          "text": [
            "Accuracy: 0.85 (+/- 0.00)\n"
          ]
        }
      ]
    }
  ]
}