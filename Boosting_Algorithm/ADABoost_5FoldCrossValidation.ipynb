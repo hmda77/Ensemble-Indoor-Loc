{
  "nbformat": 4,
  "nbformat_minor": 0,
  "metadata": {
    "colab": {
      "provenance": [],
      "collapsed_sections": [
        "qQq9P4e01cu6"
      ]
    },
    "kernelspec": {
      "name": "python3",
      "display_name": "Python 3"
    },
    "language_info": {
      "name": "python"
    }
  },
  "cells": [
    {
      "cell_type": "markdown",
      "metadata": {
        "id": "qTzkI70EmJWU"
      },
      "source": [
        "#Download dataset"
      ]
    },
    {
      "cell_type": "markdown",
      "metadata": {
        "id": "vWCwt6JAtbCP"
      },
      "source": [
        "##linux"
      ]
    },
    {
      "cell_type": "code",
      "execution_count": null,
      "metadata": {
        "colab": {
          "base_uri": "https://localhost:8080/"
        },
        "id": "LxJxMRX89nP2",
        "outputId": "778ee409-9624-4dca-9cd6-ce98f2ce656b"
      },
      "outputs": [
        {
          "name": "stdout",
          "output_type": "stream",
          "text": [
            "rm: cannot remove 'drive/MyDrive': Operation canceled\n",
            "rm: cannot remove 'drive/.shortcut-targets-by-id': Operation canceled\n",
            "rm: cannot remove 'drive/.file-revisions-by-id': Operation canceled\n",
            "rm: cannot remove 'drive/.Trash-0': Directory not empty\n",
            "Cloning into 'Ensemble-Indoor-Loc'...\n",
            "remote: Enumerating objects: 56, done.\u001b[K\n",
            "remote: Counting objects: 100% (56/56), done.\u001b[K\n",
            "remote: Compressing objects: 100% (49/49), done.\u001b[K\n",
            "remote: Total 56 (delta 17), reused 5 (delta 1), pack-reused 0\u001b[K\n",
            "Receiving objects: 100% (56/56), 695.75 KiB | 893.00 KiB/s, done.\n",
            "Resolving deltas: 100% (17/17), done.\n"
          ]
        }
      ],
      "source": [
        "!rm -rf *\n",
        "!git clone \"https://github.com/hmda77/Ensemble-Indoor-Loc\"\n",
        "!cp /content/Ensemble-Indoor-Loc/JUIndoorLoc/JUIndoorLoc-Test-data.csv /content/\n",
        "!cp /content/Ensemble-Indoor-Loc/JUIndoorLoc/JUIndoorLoc-Training-data.csv /content/\n",
        "!rm -rf /content/Ensemble-Indoor-Loc/"
      ]
    },
    {
      "cell_type": "markdown",
      "source": [
        "# windows"
      ],
      "metadata": {
        "id": "tvSrO_UUVQ9t"
      }
    },
    {
      "cell_type": "code",
      "execution_count": null,
      "metadata": {
        "colab": {
          "base_uri": "https://localhost:8080/"
        },
        "id": "5iAaW7N8FAZi",
        "outputId": "9ba27660-98ef-4dfe-c3cc-9d237d95db26"
      },
      "outputs": [
        {
          "name": "stdout",
          "output_type": "stream",
          "text": [
            "/bin/bash: line 1: cd: ./Desktop/Projects/: No such file or directory\n",
            "/bin/bash: line 1: cd: ./Desktop/Projects/Ensemble-Indoor-Loc/: No such file or directory\n"
          ]
        }
      ],
      "source": [
        "!cd ./Desktop/Projects/ && git clone \"https://github.com/hmda77/Ensemble-Indoor-Loc\"\n",
        "!cd ./Desktop/Projects/Ensemble-Indoor-Loc/\n"
      ]
    },
    {
      "cell_type": "markdown",
      "metadata": {
        "id": "M68B39xcmGqF"
      },
      "source": [
        "# Import Packages"
      ]
    },
    {
      "cell_type": "code",
      "execution_count": null,
      "metadata": {
        "id": "kkA-2gE7-nQy"
      },
      "outputs": [],
      "source": [
        "import numpy as np\n",
        "import pandas as pd\n",
        "\n",
        "import matplotlib.pyplot as plt\n",
        "from sklearn.ensemble import AdaBoostClassifier\n",
        "from sklearn.tree import DecisionTreeClassifier\n",
        "from sklearn.model_selection import train_test_split\n",
        "from sklearn.metrics import accuracy_score, recall_score, f1_score, confusion_matrix, roc_curve, roc_auc_score, classification_report\n",
        "from sklearn.preprocessing import label_binarize\n",
        "from sklearn.preprocessing import LabelEncoder\n",
        "from sklearn.preprocessing import OrdinalEncoder , normalize\n",
        "from sklearn.model_selection import ShuffleSplit\n",
        "from itertools import cycle\n",
        "\n",
        "import seaborn as sns\n",
        "\n",
        "from sklearn.model_selection import KFold\n",
        "from sklearn.model_selection import cross_val_score, cross_val_predict\n",
        "from sklearn.model_selection import cross_val_score\n",
        "\n",
        "from sklearn.neighbors import KNeighborsClassifier\n",
        "from xgboost import XGBClassifier\n",
        "\n",
        "from matplotlib import pyplot"
      ]
    },
    {
      "cell_type": "markdown",
      "metadata": {
        "id": "GdoO4aI6I8fE"
      },
      "source": [
        "# Metric Functions\n"
      ]
    },
    {
      "cell_type": "code",
      "execution_count": null,
      "metadata": {
        "id": "Zi7CwCFPFrbe"
      },
      "outputs": [],
      "source": [
        "\n",
        "# Make the confusion matrix\n",
        "def confusion_plot(y_test,y_pred,title):\n",
        "    cmt = confusion_matrix(y_test,y_pred)\n",
        "    plt.rcParams['figure.figsize'] = (10,8)\n",
        "    sns.heatmap(cmt,fmt='',annot=True,linewidth=0.01,cmap=sns.cubehelix_palette(as_cmap=True))\n",
        "    plt.title(\"confusion matrix {}\".format(title))\n",
        "    plt.xlabel(\"predicted\")\n",
        "    plt.ylabel(\"true\")\n",
        "    plt.show()\n",
        "\n",
        "\n",
        "# generate classification report\n",
        "def generate_classification_report(y_test,y_pred):\n",
        "    report=pd.DataFrame.from_dict(classification_report(y_pred,y_test,output_dict=True)).T\n",
        "    # report['Label']=[data_classes[i]  if i<5 else \" \" for i,x in enumerate(report.index)]\n",
        "    report=report[['f1-score','precision','recall','support']]\n",
        "    pd.set_option('display.max_rows', report.shape[0]+1)\n",
        "    return report\n",
        "\n",
        "# ROC Curve\n",
        "def plot_roc_curve(y_test,proba,pos_label):\n",
        "    fpr, tpr, thresholds = roc_curve(y_test, proba[:,pos_label], pos_label= pos_label)\n",
        "    roc_auc = roc_auc_score(y_test, proba, multi_class='ovr')\n",
        "\n",
        "    plt.rcParams['figure.figsize'] = (5,4)\n",
        "    plt.plot(fpr, tpr,'k:',lw=5, label='average ROC curve (area = {0:0.2f})'.format(roc_auc))\n",
        "    plt.plot([0 ,1],[0 ,1],'r')\n",
        "    plt.legend(loc=\"lower right\")\n",
        "    # plt.title('ROC Curve for calss {0}'.format(data_classes[pos_label]))\n",
        "    plt.ylabel('True Positive Rate')\n",
        "    plt.xlabel('False Positive Rate')\n",
        "    plt.show()\n",
        "\n",
        "\n",
        "# ROC Curve for all classes\n",
        "def plot_roc_curve_all(y_test,proba,n_class,title):\n",
        "    for i in range(n_class):\n",
        "      fpr, tpr, thresholds = roc_curve(y_test, proba[:,i],pos_label= i)\n",
        "      plt.plot(fpr, tpr,lw=1)\n",
        "    plt.plot([0 ,1],[0 ,1],'r')\n",
        "    plt.title('ROC Curve for all classes in {}'.format(title))\n",
        "    plt.ylabel('True Positive Rate')\n",
        "    plt.xlabel('False Positive Rate')\n",
        "    # plt.legend(data_classes)\n",
        "    plt.show()"
      ]
    },
    {
      "cell_type": "markdown",
      "metadata": {
        "id": "J9QZmLojmkEd"
      },
      "source": [
        "#Dateset Proccesses"
      ]
    },
    {
      "cell_type": "code",
      "execution_count": null,
      "metadata": {
        "colab": {
          "base_uri": "https://localhost:8080/",
          "height": 374
        },
        "id": "qX55ZOjn_jna",
        "outputId": "5895abc4-5d88-41d7-8f6e-dca00ba7024f"
      },
      "outputs": [
        {
          "output_type": "stream",
          "name": "stderr",
          "text": [
            "<>:1: SyntaxWarning: invalid escape sequence '\\H'\n",
            "<>:3: SyntaxWarning: invalid escape sequence '\\H'\n",
            "<>:1: SyntaxWarning: invalid escape sequence '\\H'\n",
            "<>:3: SyntaxWarning: invalid escape sequence '\\H'\n",
            "C:\\Users\\Hamid\\AppData\\Local\\Temp\\ipykernel_2816\\2129459651.py:1: SyntaxWarning: invalid escape sequence '\\H'\n",
            "  data_train = pd.read_csv(\"C:\\\\Users\\Hamid\\content\\JUIndoorLoc-Training-data.csv\")\n",
            "C:\\Users\\Hamid\\AppData\\Local\\Temp\\ipykernel_2816\\2129459651.py:3: SyntaxWarning: invalid escape sequence '\\H'\n",
            "  data_test = pd.read_csv(\"C:\\\\Users\\Hamid\\content\\JUIndoorLoc-Test-data.csv\")\n"
          ]
        },
        {
          "output_type": "execute_result",
          "data": {
            "text/plain": [
              "        Cid  AP001  AP002  AP003  AP004  AP005  AP006  AP007  AP008  AP009  \\\n",
              "0  L4-33-13    -77    -58    -66    -64    -92    -66    -66    -93    -93   \n",
              "1  L4-33-13    -90    -58    -78    -56    -92    -74    -74    -87    -93   \n",
              "2  L4-33-13    -80    -64    -78    -56    -92    -74    -74    -87    -93   \n",
              "3  L4-33-13    -72    -60    -74    -58    -93    -75    -76    -95    -93   \n",
              "4  L4-33-13    -82    -56    -74    -56    -93    -71    -76    -89   -110   \n",
              "\n",
              "   ...  AP167  AP168  AP169  AP170  AP171  AP172  Rs  Hpr  Did             Ts  \n",
              "0  ...   -110   -110   -110   -110   -110   -110   0    0   D2  1489813137748  \n",
              "1  ...   -110   -110   -110   -110   -110   -110   0    0   D2  1489813179138  \n",
              "2  ...   -110   -110   -110   -110   -110   -110   0    0   D2  1489812948443  \n",
              "3  ...   -110   -110   -110   -110   -110   -110   0    0   D2  1489812959103  \n",
              "4  ...   -110   -110   -110   -110   -110   -110   0    0   D2  1489813079167  \n",
              "\n",
              "[5 rows x 177 columns]"
            ],
            "text/html": [
              "<div>\n",
              "<style scoped>\n",
              "    .dataframe tbody tr th:only-of-type {\n",
              "        vertical-align: middle;\n",
              "    }\n",
              "\n",
              "    .dataframe tbody tr th {\n",
              "        vertical-align: top;\n",
              "    }\n",
              "\n",
              "    .dataframe thead th {\n",
              "        text-align: right;\n",
              "    }\n",
              "</style>\n",
              "<table border=\"1\" class=\"dataframe\">\n",
              "  <thead>\n",
              "    <tr style=\"text-align: right;\">\n",
              "      <th></th>\n",
              "      <th>Cid</th>\n",
              "      <th>AP001</th>\n",
              "      <th>AP002</th>\n",
              "      <th>AP003</th>\n",
              "      <th>AP004</th>\n",
              "      <th>AP005</th>\n",
              "      <th>AP006</th>\n",
              "      <th>AP007</th>\n",
              "      <th>AP008</th>\n",
              "      <th>AP009</th>\n",
              "      <th>...</th>\n",
              "      <th>AP167</th>\n",
              "      <th>AP168</th>\n",
              "      <th>AP169</th>\n",
              "      <th>AP170</th>\n",
              "      <th>AP171</th>\n",
              "      <th>AP172</th>\n",
              "      <th>Rs</th>\n",
              "      <th>Hpr</th>\n",
              "      <th>Did</th>\n",
              "      <th>Ts</th>\n",
              "    </tr>\n",
              "  </thead>\n",
              "  <tbody>\n",
              "    <tr>\n",
              "      <th>0</th>\n",
              "      <td>L4-33-13</td>\n",
              "      <td>-77</td>\n",
              "      <td>-58</td>\n",
              "      <td>-66</td>\n",
              "      <td>-64</td>\n",
              "      <td>-92</td>\n",
              "      <td>-66</td>\n",
              "      <td>-66</td>\n",
              "      <td>-93</td>\n",
              "      <td>-93</td>\n",
              "      <td>...</td>\n",
              "      <td>-110</td>\n",
              "      <td>-110</td>\n",
              "      <td>-110</td>\n",
              "      <td>-110</td>\n",
              "      <td>-110</td>\n",
              "      <td>-110</td>\n",
              "      <td>0</td>\n",
              "      <td>0</td>\n",
              "      <td>D2</td>\n",
              "      <td>1489813137748</td>\n",
              "    </tr>\n",
              "    <tr>\n",
              "      <th>1</th>\n",
              "      <td>L4-33-13</td>\n",
              "      <td>-90</td>\n",
              "      <td>-58</td>\n",
              "      <td>-78</td>\n",
              "      <td>-56</td>\n",
              "      <td>-92</td>\n",
              "      <td>-74</td>\n",
              "      <td>-74</td>\n",
              "      <td>-87</td>\n",
              "      <td>-93</td>\n",
              "      <td>...</td>\n",
              "      <td>-110</td>\n",
              "      <td>-110</td>\n",
              "      <td>-110</td>\n",
              "      <td>-110</td>\n",
              "      <td>-110</td>\n",
              "      <td>-110</td>\n",
              "      <td>0</td>\n",
              "      <td>0</td>\n",
              "      <td>D2</td>\n",
              "      <td>1489813179138</td>\n",
              "    </tr>\n",
              "    <tr>\n",
              "      <th>2</th>\n",
              "      <td>L4-33-13</td>\n",
              "      <td>-80</td>\n",
              "      <td>-64</td>\n",
              "      <td>-78</td>\n",
              "      <td>-56</td>\n",
              "      <td>-92</td>\n",
              "      <td>-74</td>\n",
              "      <td>-74</td>\n",
              "      <td>-87</td>\n",
              "      <td>-93</td>\n",
              "      <td>...</td>\n",
              "      <td>-110</td>\n",
              "      <td>-110</td>\n",
              "      <td>-110</td>\n",
              "      <td>-110</td>\n",
              "      <td>-110</td>\n",
              "      <td>-110</td>\n",
              "      <td>0</td>\n",
              "      <td>0</td>\n",
              "      <td>D2</td>\n",
              "      <td>1489812948443</td>\n",
              "    </tr>\n",
              "    <tr>\n",
              "      <th>3</th>\n",
              "      <td>L4-33-13</td>\n",
              "      <td>-72</td>\n",
              "      <td>-60</td>\n",
              "      <td>-74</td>\n",
              "      <td>-58</td>\n",
              "      <td>-93</td>\n",
              "      <td>-75</td>\n",
              "      <td>-76</td>\n",
              "      <td>-95</td>\n",
              "      <td>-93</td>\n",
              "      <td>...</td>\n",
              "      <td>-110</td>\n",
              "      <td>-110</td>\n",
              "      <td>-110</td>\n",
              "      <td>-110</td>\n",
              "      <td>-110</td>\n",
              "      <td>-110</td>\n",
              "      <td>0</td>\n",
              "      <td>0</td>\n",
              "      <td>D2</td>\n",
              "      <td>1489812959103</td>\n",
              "    </tr>\n",
              "    <tr>\n",
              "      <th>4</th>\n",
              "      <td>L4-33-13</td>\n",
              "      <td>-82</td>\n",
              "      <td>-56</td>\n",
              "      <td>-74</td>\n",
              "      <td>-56</td>\n",
              "      <td>-93</td>\n",
              "      <td>-71</td>\n",
              "      <td>-76</td>\n",
              "      <td>-89</td>\n",
              "      <td>-110</td>\n",
              "      <td>...</td>\n",
              "      <td>-110</td>\n",
              "      <td>-110</td>\n",
              "      <td>-110</td>\n",
              "      <td>-110</td>\n",
              "      <td>-110</td>\n",
              "      <td>-110</td>\n",
              "      <td>0</td>\n",
              "      <td>0</td>\n",
              "      <td>D2</td>\n",
              "      <td>1489813079167</td>\n",
              "    </tr>\n",
              "  </tbody>\n",
              "</table>\n",
              "<p>5 rows × 177 columns</p>\n",
              "</div>"
            ]
          },
          "metadata": {},
          "execution_count": 9
        }
      ],
      "source": [
        "data_train = pd.read_csv(\"C:\\\\Users\\Hamid\\content\\JUIndoorLoc-Training-data.csv\")\n",
        "data_train.head(5)\n",
        "data_test = pd.read_csv(\"C:\\\\Users\\Hamid\\content\\JUIndoorLoc-Test-data.csv\")\n",
        "data_test.head(5)"
      ]
    },
    {
      "cell_type": "code",
      "execution_count": null,
      "metadata": {
        "id": "XGFO8cDV_tNq",
        "colab": {
          "base_uri": "https://localhost:8080/",
          "height": 236
        },
        "outputId": "486400e8-a1d8-4838-d8a7-5375eda6a4b0"
      },
      "outputs": [
        {
          "output_type": "execute_result",
          "data": {
            "text/plain": [
              "       Cid  AP001  AP002  AP003  AP004  AP005  AP006  AP007  AP008  AP009  \\\n",
              "0  L4-40-1    -84    -80    -71    -58   -110    -72    -71   -110   -110   \n",
              "1  L4-40-1    -84    -79    -71    -58   -110    -72    -71   -110   -110   \n",
              "2  L4-40-1   -110   -110    -70    -56   -110    -69    -68   -110   -110   \n",
              "3  L4-40-1   -110   -110    -70    -53   -110    -69    -68   -110   -110   \n",
              "4  L4-37-2    -84    -82    -75    -65   -110    -73    -75   -110   -110   \n",
              "\n",
              "   ...  AP167  AP168  AP169  AP170  AP171  AP172  Rs  Hpr  Did             Ts  \n",
              "0  ...   -110   -110   -110   -110   -110   -110   0    1   D4  1469870570949  \n",
              "1  ...   -110   -110   -110   -110   -110   -110   0    1   D4  1470047205646  \n",
              "2  ...   -110   -110   -110   -110   -110   -110   0    1   D4  1469870932338  \n",
              "3  ...   -110   -110   -110   -110   -110   -110   0    1   D4  1470047629440  \n",
              "4  ...   -110   -110   -110   -110   -110   -110   0    1   D4  1469876622694  \n",
              "\n",
              "[5 rows x 177 columns]"
            ],
            "text/html": [
              "<div>\n",
              "<style scoped>\n",
              "    .dataframe tbody tr th:only-of-type {\n",
              "        vertical-align: middle;\n",
              "    }\n",
              "\n",
              "    .dataframe tbody tr th {\n",
              "        vertical-align: top;\n",
              "    }\n",
              "\n",
              "    .dataframe thead th {\n",
              "        text-align: right;\n",
              "    }\n",
              "</style>\n",
              "<table border=\"1\" class=\"dataframe\">\n",
              "  <thead>\n",
              "    <tr style=\"text-align: right;\">\n",
              "      <th></th>\n",
              "      <th>Cid</th>\n",
              "      <th>AP001</th>\n",
              "      <th>AP002</th>\n",
              "      <th>AP003</th>\n",
              "      <th>AP004</th>\n",
              "      <th>AP005</th>\n",
              "      <th>AP006</th>\n",
              "      <th>AP007</th>\n",
              "      <th>AP008</th>\n",
              "      <th>AP009</th>\n",
              "      <th>...</th>\n",
              "      <th>AP167</th>\n",
              "      <th>AP168</th>\n",
              "      <th>AP169</th>\n",
              "      <th>AP170</th>\n",
              "      <th>AP171</th>\n",
              "      <th>AP172</th>\n",
              "      <th>Rs</th>\n",
              "      <th>Hpr</th>\n",
              "      <th>Did</th>\n",
              "      <th>Ts</th>\n",
              "    </tr>\n",
              "  </thead>\n",
              "  <tbody>\n",
              "    <tr>\n",
              "      <th>0</th>\n",
              "      <td>L4-40-1</td>\n",
              "      <td>-84</td>\n",
              "      <td>-80</td>\n",
              "      <td>-71</td>\n",
              "      <td>-58</td>\n",
              "      <td>-110</td>\n",
              "      <td>-72</td>\n",
              "      <td>-71</td>\n",
              "      <td>-110</td>\n",
              "      <td>-110</td>\n",
              "      <td>...</td>\n",
              "      <td>-110</td>\n",
              "      <td>-110</td>\n",
              "      <td>-110</td>\n",
              "      <td>-110</td>\n",
              "      <td>-110</td>\n",
              "      <td>-110</td>\n",
              "      <td>0</td>\n",
              "      <td>1</td>\n",
              "      <td>D4</td>\n",
              "      <td>1469870570949</td>\n",
              "    </tr>\n",
              "    <tr>\n",
              "      <th>1</th>\n",
              "      <td>L4-40-1</td>\n",
              "      <td>-84</td>\n",
              "      <td>-79</td>\n",
              "      <td>-71</td>\n",
              "      <td>-58</td>\n",
              "      <td>-110</td>\n",
              "      <td>-72</td>\n",
              "      <td>-71</td>\n",
              "      <td>-110</td>\n",
              "      <td>-110</td>\n",
              "      <td>...</td>\n",
              "      <td>-110</td>\n",
              "      <td>-110</td>\n",
              "      <td>-110</td>\n",
              "      <td>-110</td>\n",
              "      <td>-110</td>\n",
              "      <td>-110</td>\n",
              "      <td>0</td>\n",
              "      <td>1</td>\n",
              "      <td>D4</td>\n",
              "      <td>1470047205646</td>\n",
              "    </tr>\n",
              "    <tr>\n",
              "      <th>2</th>\n",
              "      <td>L4-40-1</td>\n",
              "      <td>-110</td>\n",
              "      <td>-110</td>\n",
              "      <td>-70</td>\n",
              "      <td>-56</td>\n",
              "      <td>-110</td>\n",
              "      <td>-69</td>\n",
              "      <td>-68</td>\n",
              "      <td>-110</td>\n",
              "      <td>-110</td>\n",
              "      <td>...</td>\n",
              "      <td>-110</td>\n",
              "      <td>-110</td>\n",
              "      <td>-110</td>\n",
              "      <td>-110</td>\n",
              "      <td>-110</td>\n",
              "      <td>-110</td>\n",
              "      <td>0</td>\n",
              "      <td>1</td>\n",
              "      <td>D4</td>\n",
              "      <td>1469870932338</td>\n",
              "    </tr>\n",
              "    <tr>\n",
              "      <th>3</th>\n",
              "      <td>L4-40-1</td>\n",
              "      <td>-110</td>\n",
              "      <td>-110</td>\n",
              "      <td>-70</td>\n",
              "      <td>-53</td>\n",
              "      <td>-110</td>\n",
              "      <td>-69</td>\n",
              "      <td>-68</td>\n",
              "      <td>-110</td>\n",
              "      <td>-110</td>\n",
              "      <td>...</td>\n",
              "      <td>-110</td>\n",
              "      <td>-110</td>\n",
              "      <td>-110</td>\n",
              "      <td>-110</td>\n",
              "      <td>-110</td>\n",
              "      <td>-110</td>\n",
              "      <td>0</td>\n",
              "      <td>1</td>\n",
              "      <td>D4</td>\n",
              "      <td>1470047629440</td>\n",
              "    </tr>\n",
              "    <tr>\n",
              "      <th>4</th>\n",
              "      <td>L4-37-2</td>\n",
              "      <td>-84</td>\n",
              "      <td>-82</td>\n",
              "      <td>-75</td>\n",
              "      <td>-65</td>\n",
              "      <td>-110</td>\n",
              "      <td>-73</td>\n",
              "      <td>-75</td>\n",
              "      <td>-110</td>\n",
              "      <td>-110</td>\n",
              "      <td>...</td>\n",
              "      <td>-110</td>\n",
              "      <td>-110</td>\n",
              "      <td>-110</td>\n",
              "      <td>-110</td>\n",
              "      <td>-110</td>\n",
              "      <td>-110</td>\n",
              "      <td>0</td>\n",
              "      <td>1</td>\n",
              "      <td>D4</td>\n",
              "      <td>1469876622694</td>\n",
              "    </tr>\n",
              "  </tbody>\n",
              "</table>\n",
              "<p>5 rows × 177 columns</p>\n",
              "</div>"
            ]
          },
          "metadata": {},
          "execution_count": 10
        }
      ],
      "source": [
        "frames = [data_train, data_test]\n",
        "mergedDataset = pd.concat(frames)\n",
        "mergedDataset.head(5)"
      ]
    },
    {
      "cell_type": "code",
      "execution_count": null,
      "metadata": {
        "id": "uyUdWlSE__RL"
      },
      "outputs": [],
      "source": [
        "mergedDataset['Did'] = mergedDataset['Did'].astype(str).str[1]\n",
        "mergedDataset['Did'] = pd.to_numeric(mergedDataset['Did'])"
      ]
    },
    {
      "cell_type": "code",
      "execution_count": null,
      "metadata": {
        "id": "-mH1DN6gBPub"
      },
      "outputs": [],
      "source": [
        "#make X_train from Tr\n",
        "X = mergedDataset.loc[:, (mergedDataset.columns != 'Ts') & (mergedDataset.columns != 'Cid')]\n",
        "y = mergedDataset.Cid\n",
        "\n",
        "\n",
        "\n",
        "le = LabelEncoder()\n",
        "le.fit(y)\n",
        "le.transform(y)\n",
        "\n",
        "\n",
        "X_train = X\n",
        "y_train_encode =  le.transform(y)\n"
      ]
    },
    {
      "cell_type": "code",
      "execution_count": null,
      "metadata": {
        "colab": {
          "base_uri": "https://localhost:8080/"
        },
        "id": "__Ve8Q_402Og",
        "outputId": "2b6ccade-9c75-4307-89fe-9e7389ce26c1"
      },
      "outputs": [
        {
          "output_type": "stream",
          "name": "stdout",
          "text": [
            "991\n",
            "991\n"
          ]
        }
      ],
      "source": [
        "print(len(np.unique(y_train_encode)))\n",
        "print(len(y.unique()))"
      ]
    },
    {
      "cell_type": "markdown",
      "source": [
        "# 5 Fold CrossValidation"
      ],
      "metadata": {
        "id": "qQq9P4e01cu6"
      }
    },
    {
      "cell_type": "code",
      "source": [
        "\n",
        "base_estimator = DecisionTreeClassifier(max_depth=50)  # Shallow decision tree as a weak learner\n",
        "n_estimators = 100  # Number of weak learners in the ensemble\n",
        "adaboost = AdaBoostClassifier(estimator=base_estimator, n_estimators=n_estimators)\n",
        "\n",
        "scores = cross_val_score(adaboost, X_train, y_train_encode, cv=5)"
      ],
      "metadata": {
        "colab": {
          "base_uri": "https://localhost:8080/"
        },
        "id": "byA0-Fp70Cp5",
        "outputId": "0c91e9c4-897a-47ae-9caf-d7141b232785"
      },
      "execution_count": null,
      "outputs": [
        {
          "output_type": "stream",
          "name": "stderr",
          "text": [
            "C:\\Users\\Hamid\\AppData\\Local\\Programs\\Python\\Python312\\Lib\\site-packages\\sklearn\\model_selection\\_split.py:737: UserWarning: The least populated class in y has only 2 members, which is less than n_splits=5.\n",
            "  warnings.warn(\n"
          ]
        }
      ]
    },
    {
      "cell_type": "code",
      "source": [
        "scores"
      ],
      "metadata": {
        "id": "vFf_aWX5LKBn",
        "outputId": "bf5c3dcd-8c0c-468d-a6af-23e936e22b0b",
        "colab": {
          "base_uri": "https://localhost:8080/"
        }
      },
      "execution_count": null,
      "outputs": [
        {
          "output_type": "execute_result",
          "data": {
            "text/plain": [
              "array([0.95584467, 0.64419476, 0.86595703, 0.94914252, 0.62756309])"
            ]
          },
          "metadata": {},
          "execution_count": 21
        }
      ]
    },
    {
      "cell_type": "markdown",
      "source": [
        "# 5 Fold CrossValidation with shuffle"
      ],
      "metadata": {
        "id": "INmvEC3c9POd"
      }
    },
    {
      "cell_type": "code",
      "source": [
        "\n",
        "base_estimator = DecisionTreeClassifier(max_depth=50)  # Shallow decision tree as a weak learner\n",
        "n_estimators = 100  # Number of weak learners in the ensemble\n",
        "adaboost = AdaBoostClassifier(estimator=base_estimator, n_estimators=n_estimators)\n",
        "cv = ShuffleSplit(n_splits=5, test_size=0.15, random_state=42)\n",
        "scores = cross_val_score(adaboost, X_train, y_train_encode, cv=cv)"
      ],
      "metadata": {
        "id": "X3q3lqp09POr"
      },
      "execution_count": null,
      "outputs": []
    },
    {
      "cell_type": "code",
      "source": [
        "scores"
      ],
      "metadata": {
        "outputId": "114fcd3f-d510-4fc8-f7c5-3654e9715977",
        "colab": {
          "base_uri": "https://localhost:8080/"
        },
        "id": "C9JaEZ6_9POr"
      },
      "execution_count": null,
      "outputs": [
        {
          "output_type": "execute_result",
          "data": {
            "text/plain": [
              "array([0.96425756, 0.9695138 , 0.97056505, 0.97345598, 0.96636005])"
            ]
          },
          "metadata": {},
          "execution_count": 15
        }
      ]
    }
  ]
}